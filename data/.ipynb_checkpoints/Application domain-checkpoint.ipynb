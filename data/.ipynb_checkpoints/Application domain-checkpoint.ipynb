{
 "cells": [
  {
   "cell_type": "code",
   "execution_count": 3,
   "id": "1254afb0",
   "metadata": {},
   "outputs": [],
   "source": [
    "import pandas as pd\n",
    "from rdkit import Chem\n",
    "from rdkit.DataStructs import FingerprintSimilarity\n",
    "import warnings\n",
    "warnings.filterwarnings('ignore')\n",
    "from tqdm.autonotebook import tqdm\n",
    "from rdkit.Chem import MACCSkeys"
   ]
  },
  {
   "cell_type": "code",
   "execution_count": 4,
   "id": "752b952f",
   "metadata": {},
   "outputs": [],
   "source": [
    "data = pd.read_csv('BST.csv',encoding='gb18030')\n",
    "food_data = pd.read_csv('food_Compound.csv',encoding='gb18030')"
   ]
  },
  {
   "cell_type": "code",
   "execution_count": 5,
   "id": "3b4f4da3",
   "metadata": {},
   "outputs": [
    {
     "data": {
      "text/plain": [
       "0       Br.Br.CC1C2CCC3C4CC=C5CC(N(C)C)CCC5(C)C4CCC32CN1C\n",
       "1                                  Br.COC(=O)C1=CCCN(C)C1\n",
       "2                               C#CCCCCCCCCCCCC(O)CC(O)CO\n",
       "3                         C#CCCCCCCCCCCCC(O)CC(O)COC(C)=O\n",
       "4                                                     C#N\n",
       "                              ...                        \n",
       "8040    [O-][Cl+2]([O-])OCC1(OC2OC(CO)C(O)C(O)C2O)OC(C...\n",
       "8041    [O-][Si]([O-])([O-])OC1C(O)C(CO)OC1(CO)OC1OC(C...\n",
       "8042             [O-][Si]([O-])([O-])OCC(O)C(O)C(O)C(O)CO\n",
       "8043                c1ccc(N=N/C(=N\\Nc2ccccc2)c2ccccc2)cc1\n",
       "8044                  c1ccc(N=NC(=NNc2ccccc2)c2ccccc2)cc1\n",
       "Name: SMILES, Length: 8045, dtype: object"
      ]
     },
     "execution_count": 5,
     "metadata": {},
     "output_type": "execute_result"
    }
   ],
   "source": [
    "data['SMILES'][:8045]"
   ]
  },
  {
   "cell_type": "code",
   "execution_count": 6,
   "id": "8b5ca08a",
   "metadata": {},
   "outputs": [
    {
     "data": {
      "text/html": [
       "<div>\n",
       "<style scoped>\n",
       "    .dataframe tbody tr th:only-of-type {\n",
       "        vertical-align: middle;\n",
       "    }\n",
       "\n",
       "    .dataframe tbody tr th {\n",
       "        vertical-align: top;\n",
       "    }\n",
       "\n",
       "    .dataframe thead th {\n",
       "        text-align: right;\n",
       "    }\n",
       "</style>\n",
       "<table border=\"1\" class=\"dataframe\">\n",
       "  <thead>\n",
       "    <tr style=\"text-align: right;\">\n",
       "      <th></th>\n",
       "      <th>id</th>\n",
       "      <th>public_id</th>\n",
       "      <th>name</th>\n",
       "      <th>SMILES</th>\n",
       "    </tr>\n",
       "  </thead>\n",
       "  <tbody>\n",
       "    <tr>\n",
       "      <th>0</th>\n",
       "      <td>4</td>\n",
       "      <td>FDB000004</td>\n",
       "      <td>Cyanidin 3-(6''-acetyl-galactoside)</td>\n",
       "      <td>[H][C@]1(COC(C)=O)O[C@@]([H])(OC2=CC3=C(O)C=C(...</td>\n",
       "    </tr>\n",
       "    <tr>\n",
       "      <th>1</th>\n",
       "      <td>13</td>\n",
       "      <td>FDB000013</td>\n",
       "      <td>Cyanidin 3-(6''-succinyl-glucoside)</td>\n",
       "      <td>[H][C@]1(COC(=O)CCC(O)=O)O[C@@]([H])(OC2=CC3=C...</td>\n",
       "    </tr>\n",
       "    <tr>\n",
       "      <th>2</th>\n",
       "      <td>14</td>\n",
       "      <td>FDB000014</td>\n",
       "      <td>Pelargonidin 3-(6''-succinyl-glucoside)</td>\n",
       "      <td>[H][C@]1(COC(=O)CCC(O)=O)O[C@@]([H])(OC2=CC3=C...</td>\n",
       "    </tr>\n",
       "    <tr>\n",
       "      <th>3</th>\n",
       "      <td>24</td>\n",
       "      <td>FDB000024</td>\n",
       "      <td>Petunidin 3-O-(6''-acetyl-galactoside)</td>\n",
       "      <td>[H][C@]1(COC(C)=O)OC(OC2=C([O+]=C3C=C(O)C=C(O)...</td>\n",
       "    </tr>\n",
       "    <tr>\n",
       "      <th>4</th>\n",
       "      <td>25</td>\n",
       "      <td>FDB000025</td>\n",
       "      <td>Peonidin 3-(6''-acetyl-galactoside)</td>\n",
       "      <td>[H][C@]1(COC(C)=O)OC(OC2=C([O+]=C3C=C(O)C=C(O)...</td>\n",
       "    </tr>\n",
       "    <tr>\n",
       "      <th>...</th>\n",
       "      <td>...</td>\n",
       "      <td>...</td>\n",
       "      <td>...</td>\n",
       "      <td>...</td>\n",
       "    </tr>\n",
       "    <tr>\n",
       "      <th>17736</th>\n",
       "      <td>139981</td>\n",
       "      <td>FDB112148</td>\n",
       "      <td>gamma-Glutamyllysine</td>\n",
       "      <td>NCCCC[C@H](NC(=O)CC[C@H](N)C(O)=O)C(O)=O</td>\n",
       "    </tr>\n",
       "    <tr>\n",
       "      <th>17737</th>\n",
       "      <td>139982</td>\n",
       "      <td>FDB112149</td>\n",
       "      <td>gamma-Glutamylproline</td>\n",
       "      <td>N[C@@H](CCC(=O)N1CCC[C@H]1C(O)=O)C(O)=O</td>\n",
       "    </tr>\n",
       "    <tr>\n",
       "      <th>17738</th>\n",
       "      <td>139983</td>\n",
       "      <td>FDB112150</td>\n",
       "      <td>gamma-Glutamylserine</td>\n",
       "      <td>N[C@@H](CCC(=O)N[C@@H](CO)C(O)=O)C(O)=O</td>\n",
       "    </tr>\n",
       "    <tr>\n",
       "      <th>17739</th>\n",
       "      <td>139984</td>\n",
       "      <td>FDB112151</td>\n",
       "      <td>gamma-Glutamylthreonine</td>\n",
       "      <td>C[C@@H](O)[C@H](NC(=O)CC[C@H](N)C(O)=O)C(O)=O</td>\n",
       "    </tr>\n",
       "    <tr>\n",
       "      <th>17740</th>\n",
       "      <td>139985</td>\n",
       "      <td>FDB112152</td>\n",
       "      <td>gamma-Glutamyltryptophan</td>\n",
       "      <td>N[C@@H](CCC(=O)N[C@@H](CC1=CNC2=CC=CC=C12)C(O)...</td>\n",
       "    </tr>\n",
       "  </tbody>\n",
       "</table>\n",
       "<p>17741 rows × 4 columns</p>\n",
       "</div>"
      ],
      "text/plain": [
       "           id  public_id                                     name  \\\n",
       "0           4  FDB000004      Cyanidin 3-(6''-acetyl-galactoside)   \n",
       "1          13  FDB000013      Cyanidin 3-(6''-succinyl-glucoside)   \n",
       "2          14  FDB000014  Pelargonidin 3-(6''-succinyl-glucoside)   \n",
       "3          24  FDB000024   Petunidin 3-O-(6''-acetyl-galactoside)   \n",
       "4          25  FDB000025      Peonidin 3-(6''-acetyl-galactoside)   \n",
       "...       ...        ...                                      ...   \n",
       "17736  139981  FDB112148                     gamma-Glutamyllysine   \n",
       "17737  139982  FDB112149                    gamma-Glutamylproline   \n",
       "17738  139983  FDB112150                     gamma-Glutamylserine   \n",
       "17739  139984  FDB112151                  gamma-Glutamylthreonine   \n",
       "17740  139985  FDB112152                 gamma-Glutamyltryptophan   \n",
       "\n",
       "                                                  SMILES  \n",
       "0      [H][C@]1(COC(C)=O)O[C@@]([H])(OC2=CC3=C(O)C=C(...  \n",
       "1      [H][C@]1(COC(=O)CCC(O)=O)O[C@@]([H])(OC2=CC3=C...  \n",
       "2      [H][C@]1(COC(=O)CCC(O)=O)O[C@@]([H])(OC2=CC3=C...  \n",
       "3      [H][C@]1(COC(C)=O)OC(OC2=C([O+]=C3C=C(O)C=C(O)...  \n",
       "4      [H][C@]1(COC(C)=O)OC(OC2=C([O+]=C3C=C(O)C=C(O)...  \n",
       "...                                                  ...  \n",
       "17736           NCCCC[C@H](NC(=O)CC[C@H](N)C(O)=O)C(O)=O  \n",
       "17737            N[C@@H](CCC(=O)N1CCC[C@H]1C(O)=O)C(O)=O  \n",
       "17738            N[C@@H](CCC(=O)N[C@@H](CO)C(O)=O)C(O)=O  \n",
       "17739      C[C@@H](O)[C@H](NC(=O)CC[C@H](N)C(O)=O)C(O)=O  \n",
       "17740  N[C@@H](CCC(=O)N[C@@H](CC1=CNC2=CC=CC=C12)C(O)...  \n",
       "\n",
       "[17741 rows x 4 columns]"
      ]
     },
     "execution_count": 6,
     "metadata": {},
     "output_type": "execute_result"
    }
   ],
   "source": [
    "food_data"
   ]
  },
  {
   "cell_type": "code",
   "execution_count": 7,
   "id": "84ded02d",
   "metadata": {},
   "outputs": [
    {
     "data": {
      "text/plain": [
       "10000       COC1=CC=C(C=C1)C1=C(O)C(=O)C2=C(O)C=C(O)C=C2O1\n",
       "10001    COC1=C(OC2OC(C)C(O)C(O)C2O)C=C(O)C2=C1OC(C1=CC...\n",
       "10002    CC(C)=CCC1=C(O)C2=C(OC(CC2=O)C2=CC=C(O)C=C2)C2...\n",
       "10003       CC(C)=CCC1=C(O)C2=C(OC(CC2=O)C2=CC=CC=C2)C=C1O\n",
       "10004    CC(=O)OC1C(O)C(O)C(CO)OC1C1=C(O)C=C(O)C2=C1OC(...\n",
       "                               ...                        \n",
       "13995          O=C1OC(=O)C2=C(C=CC3=C2C1=CC=C3)C1=CC=CC=C1\n",
       "13996     OC1=CC=C(C=C1)C1=C2C(=O)OC(=O)C3=CC=CC(C=C1)=C23\n",
       "13997                          CC1CC(=O)C2=C(C=CC=C2O)C1=O\n",
       "13998    COC1=CC(=C\\C=C\\C=C2C=C(OC)C(=O)C(OC)=C2)C=C(OC...\n",
       "13999    COC(=O)C1(O)CC(=O)C2=C1C(=CC1=C2OC2=C(C(O)=C3C...\n",
       "Name: SMILES, Length: 4000, dtype: object"
      ]
     },
     "execution_count": 7,
     "metadata": {},
     "output_type": "execute_result"
    }
   ],
   "source": [
    "food_data['SMILES'][10000:14000]"
   ]
  },
  {
   "cell_type": "code",
   "execution_count": 12,
   "id": "b048d6ac",
   "metadata": {},
   "outputs": [
    {
     "name": "stderr",
     "output_type": "stream",
     "text": [
      " 35%|██████████████████████████▍                                                | 615/1741 [2:38:27<5:11:57, 16.62s/it][14:49:49] Explicit valence for atom # 0 P, 11, is greater than permitted\n",
      " 36%|██████████████████████████▋                                                | 620/1741 [2:39:39<4:19:18, 13.88s/it][14:51:01] Explicit valence for atom # 7 N, 4, is greater than permitted\n",
      " 50%|█████████████████████████████████████▊                                     | 879/1741 [4:02:40<4:19:01, 18.03s/it][16:14:02] Explicit valence for atom # 28 N, 4, is greater than permitted\n",
      "100%|████████████████████████████████████████████████████████████████████████████| 1741/1741 [7:07:58<00:00, 14.75s/it]\n"
     ]
    }
   ],
   "source": [
    "# 定义数据集1的SMILES\n",
    "dataset1_smiles = data['SMILES'][:8045]\n",
    "\n",
    "# 定义数据集2的SMILES\n",
    "dataset2_smiles = food_data['SMILES'][16000:]\n",
    "\n",
    "# 创建结果DataFrame\n",
    "AD_results = pd.DataFrame(columns=['SMILES', 'InDomain'])\n",
    "\n",
    "\n",
    "# 计算数据集2中每个分子与数据集1的相似度，并判断是否在应用域内\n",
    "for smiles in tqdm(dataset2_smiles):\n",
    "    \n",
    "    try:\n",
    "        \n",
    "        mol2 = Chem.MolFromSmiles(smiles)\n",
    "        # 初始化应用域标志\n",
    "        in_domain = False\n",
    "\n",
    "        # 计算与数据集1中每个分子的相似度\n",
    "        for ref_smiles in dataset1_smiles:\n",
    "            # 转换为RDKit分子对象\n",
    "            mol1 = Chem.MolFromSmiles(ref_smiles)\n",
    "\n",
    "            # 计算Tanimoto相似度\n",
    "            similarity = FingerprintSimilarity(Chem.RDKFingerprint(mol1), Chem.RDKFingerprint(mol2),)\n",
    "            #print(f\"Tanimoto similarity between {smiles} and {ref_smiles}: {similarity}\")\n",
    "            # 判断是否在应用域内\n",
    "            if similarity > 0.95: \n",
    "                in_domain = True\n",
    "\n",
    "        # 添加结果到DataFrame\n",
    "        AD_results = AD_results._append({'SMILES': smiles, 'InDomain': in_domain}, ignore_index=True)\n",
    "    except:\n",
    "        AD_results = AD_results._append({'SMILES': smiles, 'InDomain': in_domain}, ignore_index=True)"
   ]
  },
  {
   "cell_type": "code",
   "execution_count": 14,
   "id": "eaee6d4e",
   "metadata": {},
   "outputs": [
    {
     "data": {
      "text/html": [
       "<div>\n",
       "<style scoped>\n",
       "    .dataframe tbody tr th:only-of-type {\n",
       "        vertical-align: middle;\n",
       "    }\n",
       "\n",
       "    .dataframe tbody tr th {\n",
       "        vertical-align: top;\n",
       "    }\n",
       "\n",
       "    .dataframe thead th {\n",
       "        text-align: right;\n",
       "    }\n",
       "</style>\n",
       "<table border=\"1\" class=\"dataframe\">\n",
       "  <thead>\n",
       "    <tr style=\"text-align: right;\">\n",
       "      <th></th>\n",
       "      <th>SMILES</th>\n",
       "      <th>InDomain</th>\n",
       "    </tr>\n",
       "  </thead>\n",
       "  <tbody>\n",
       "    <tr>\n",
       "      <th>0</th>\n",
       "      <td>C[C@@H]1N(C)CCC2=CC(O)=C(O)C=C12</td>\n",
       "      <td>False</td>\n",
       "    </tr>\n",
       "    <tr>\n",
       "      <th>1</th>\n",
       "      <td>OCCS(O)(=O)=O</td>\n",
       "      <td>False</td>\n",
       "    </tr>\n",
       "    <tr>\n",
       "      <th>2</th>\n",
       "      <td>CC(O)C1=[N+](CC2=CN=C(C)N=C2N)C(C)=C(CCOP(O)(=...</td>\n",
       "      <td>False</td>\n",
       "    </tr>\n",
       "    <tr>\n",
       "      <th>3</th>\n",
       "      <td>CC(CN)C(O)=O</td>\n",
       "      <td>False</td>\n",
       "    </tr>\n",
       "    <tr>\n",
       "      <th>4</th>\n",
       "      <td>CN1CCC2=C(C=C3OCOC3=C2)C(=O)CC2=C(C1)C1=C(OCO1...</td>\n",
       "      <td>True</td>\n",
       "    </tr>\n",
       "    <tr>\n",
       "      <th>...</th>\n",
       "      <td>...</td>\n",
       "      <td>...</td>\n",
       "    </tr>\n",
       "    <tr>\n",
       "      <th>1736</th>\n",
       "      <td>NCCCC[C@H](NC(=O)CC[C@H](N)C(O)=O)C(O)=O</td>\n",
       "      <td>False</td>\n",
       "    </tr>\n",
       "    <tr>\n",
       "      <th>1737</th>\n",
       "      <td>N[C@@H](CCC(=O)N1CCC[C@H]1C(O)=O)C(O)=O</td>\n",
       "      <td>False</td>\n",
       "    </tr>\n",
       "    <tr>\n",
       "      <th>1738</th>\n",
       "      <td>N[C@@H](CCC(=O)N[C@@H](CO)C(O)=O)C(O)=O</td>\n",
       "      <td>False</td>\n",
       "    </tr>\n",
       "    <tr>\n",
       "      <th>1739</th>\n",
       "      <td>C[C@@H](O)[C@H](NC(=O)CC[C@H](N)C(O)=O)C(O)=O</td>\n",
       "      <td>False</td>\n",
       "    </tr>\n",
       "    <tr>\n",
       "      <th>1740</th>\n",
       "      <td>N[C@@H](CCC(=O)N[C@@H](CC1=CNC2=CC=CC=C12)C(O)...</td>\n",
       "      <td>False</td>\n",
       "    </tr>\n",
       "  </tbody>\n",
       "</table>\n",
       "<p>1741 rows × 2 columns</p>\n",
       "</div>"
      ],
      "text/plain": [
       "                                                 SMILES InDomain\n",
       "0                      C[C@@H]1N(C)CCC2=CC(O)=C(O)C=C12    False\n",
       "1                                         OCCS(O)(=O)=O    False\n",
       "2     CC(O)C1=[N+](CC2=CN=C(C)N=C2N)C(C)=C(CCOP(O)(=...    False\n",
       "3                                          CC(CN)C(O)=O    False\n",
       "4     CN1CCC2=C(C=C3OCOC3=C2)C(=O)CC2=C(C1)C1=C(OCO1...     True\n",
       "...                                                 ...      ...\n",
       "1736           NCCCC[C@H](NC(=O)CC[C@H](N)C(O)=O)C(O)=O    False\n",
       "1737            N[C@@H](CCC(=O)N1CCC[C@H]1C(O)=O)C(O)=O    False\n",
       "1738            N[C@@H](CCC(=O)N[C@@H](CO)C(O)=O)C(O)=O    False\n",
       "1739      C[C@@H](O)[C@H](NC(=O)CC[C@H](N)C(O)=O)C(O)=O    False\n",
       "1740  N[C@@H](CCC(=O)N[C@@H](CC1=CNC2=CC=CC=C12)C(O)...    False\n",
       "\n",
       "[1741 rows x 2 columns]"
      ]
     },
     "execution_count": 14,
     "metadata": {},
     "output_type": "execute_result"
    }
   ],
   "source": [
    "AD_results"
   ]
  },
  {
   "cell_type": "code",
   "execution_count": 17,
   "id": "56e49899",
   "metadata": {},
   "outputs": [
    {
     "name": "stdout",
     "output_type": "stream",
     "text": [
      "False    1671\n",
      "True       70\n",
      "Name: InDomain, dtype: int64\n"
     ]
    }
   ],
   "source": [
    "# 计算True和False值的数量\n",
    "value_counts = AD_results['InDomain'].value_counts()\n",
    "\n",
    "# 打印结果\n",
    "print(value_counts)"
   ]
  },
  {
   "cell_type": "code",
   "execution_count": 16,
   "id": "ec1edb4d",
   "metadata": {},
   "outputs": [],
   "source": [
    "AD_results.to_csv('AD_results_final_16000_.csv')"
   ]
  },
  {
   "cell_type": "code",
   "execution_count": null,
   "id": "440780b0",
   "metadata": {},
   "outputs": [],
   "source": []
  }
 ],
 "metadata": {
  "kernelspec": {
   "display_name": "bittersweet",
   "language": "python",
   "name": "bittersweet"
  },
  "language_info": {
   "codemirror_mode": {
    "name": "ipython",
    "version": 3
   },
   "file_extension": ".py",
   "mimetype": "text/x-python",
   "name": "python",
   "nbconvert_exporter": "python",
   "pygments_lexer": "ipython3",
   "version": "3.8.16"
  }
 },
 "nbformat": 4,
 "nbformat_minor": 5
}
