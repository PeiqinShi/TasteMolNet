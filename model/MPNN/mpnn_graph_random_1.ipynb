{
 "cells": [
  {
   "cell_type": "code",
   "execution_count": 20,
   "id": "48af7d2a",
   "metadata": {},
   "outputs": [],
   "source": [
    "import deepchem as dc\n",
    "\n",
    "import pandas as pd\n",
    "import numpy as np\n",
    "\n",
    "from sklearn import metrics\n",
    "from sklearn.metrics import confusion_matrix\n",
    "from sklearn.metrics import make_scorer\n",
    "from sklearn.metrics import accuracy_score\n",
    "from sklearn.metrics import f1_score\n",
    "from sklearn.metrics import recall_score\n",
    "from sklearn.metrics import precision_score\n",
    "\n",
    "import ast\n",
    "from sklearn.preprocessing import MultiLabelBinarizer\n",
    "from deepchem.models.torch_models import MPNNModel\n",
    "from sklearn.preprocessing import LabelEncoder\n",
    "\n",
    "import matplotlib.pyplot as plt\n",
    "import seaborn as sns"
   ]
  },
  {
   "cell_type": "code",
   "execution_count": 2,
   "id": "f4acb7ed",
   "metadata": {},
   "outputs": [],
   "source": [
    "data = pd.read_csv('BST.csv',encoding = 'gb2312')"
   ]
  },
  {
   "cell_type": "code",
   "execution_count": 3,
   "id": "2f658e04",
   "metadata": {},
   "outputs": [],
   "source": [
    "featurizer = dc.feat.MolGraphConvFeaturizer(use_edges=True)\n",
    "features = featurizer.featurize(data['SMILES'])"
   ]
  },
  {
   "cell_type": "code",
   "execution_count": 4,
   "id": "bdb5c5d6",
   "metadata": {},
   "outputs": [],
   "source": [
    "dataset_y = [ast.literal_eval(label) for label in data['Label']]\n",
    "dataset_new_y = MultiLabelBinarizer().fit_transform(dataset_y)"
   ]
  },
  {
   "cell_type": "code",
   "execution_count": 5,
   "id": "f8c01c75",
   "metadata": {},
   "outputs": [],
   "source": [
    "dataset = dc.data.NumpyDataset(X=features, y=dataset_new_y.astype(np.float32))"
   ]
  },
  {
   "cell_type": "code",
   "execution_count": 6,
   "id": "8896e922",
   "metadata": {},
   "outputs": [],
   "source": [
    "splitter = dc.splits.RandomSplitter()#ScaffoldSplitter()\n",
    "train_dataset,valid_dataset,test_dataset = splitter.train_valid_test_split(dataset=dataset,frac_train=0.7,frac_valid=0.1,frac_test=0.2,seed=200)"
   ]
  },
  {
   "cell_type": "code",
   "execution_count": null,
   "id": "03e25c0e",
   "metadata": {},
   "outputs": [],
   "source": []
  },
  {
   "cell_type": "code",
   "execution_count": 7,
   "id": "9710fd0e",
   "metadata": {},
   "outputs": [],
   "source": [
    "batch_size = 32\n",
    "n_atom_feat = 70\n",
    "n_pair_feat=8"
   ]
  },
  {
   "cell_type": "code",
   "execution_count": 8,
   "id": "7ab94512",
   "metadata": {},
   "outputs": [],
   "source": [
    "model = dc.models.torch_models.MPNNModel(\n",
    "    n_tasks=3,\n",
    "    batch_size=batch_size,\n",
    "    n_atom_feat=n_atom_feat,\n",
    "    n_pair_feat=n_pair_feat,\n",
    "    T=5,\n",
    "    M=10,\n",
    "    learning_rate=0.0001,\n",
    "    use_queue=False,\n",
    "    mode='classification')"
   ]
  },
  {
   "cell_type": "code",
   "execution_count": 9,
   "id": "59870936",
   "metadata": {},
   "outputs": [],
   "source": [
    "loss =  model.fit(train_dataset, nb_epoch=100)"
   ]
  },
  {
   "cell_type": "code",
   "execution_count": 10,
   "id": "c2aeee40",
   "metadata": {},
   "outputs": [
    {
     "data": {
      "text/plain": [
       "0.08437717437744141"
      ]
     },
     "execution_count": 10,
     "metadata": {},
     "output_type": "execute_result"
    }
   ],
   "source": [
    "loss"
   ]
  },
  {
   "cell_type": "markdown",
   "id": "352c107e",
   "metadata": {},
   "source": [
    "# 验证集"
   ]
  },
  {
   "cell_type": "code",
   "execution_count": 11,
   "id": "3df9067e",
   "metadata": {},
   "outputs": [
    {
     "data": {
      "text/plain": [
       "array([[0, 1, 0],\n",
       "       [0, 1, 0],\n",
       "       [0, 1, 0],\n",
       "       ...,\n",
       "       [0, 1, 0],\n",
       "       [0, 0, 1],\n",
       "       [0, 0, 1]])"
      ]
     },
     "execution_count": 11,
     "metadata": {},
     "output_type": "execute_result"
    }
   ],
   "source": [
    "y_pred_val = model.predict(valid_dataset)\n",
    "y_pred_val = np.round(y_pred_val).astype(int)\n",
    "y_pred_val = y_pred_val[:, :, 1]\n",
    "y_pred_val"
   ]
  },
  {
   "cell_type": "code",
   "execution_count": 12,
   "id": "67c20092",
   "metadata": {},
   "outputs": [
    {
     "data": {
      "text/plain": [
       "array([[0., 1., 0.],\n",
       "       [0., 1., 0.],\n",
       "       [0., 1., 0.],\n",
       "       ...,\n",
       "       [0., 1., 0.],\n",
       "       [0., 0., 1.],\n",
       "       [0., 0., 1.]], dtype=float32)"
      ]
     },
     "execution_count": 12,
     "metadata": {},
     "output_type": "execute_result"
    }
   ],
   "source": [
    "valid_dataset.y"
   ]
  },
  {
   "cell_type": "code",
   "execution_count": 13,
   "id": "30ca308b",
   "metadata": {},
   "outputs": [
    {
     "name": "stdout",
     "output_type": "stream",
     "text": [
      "F1 score: 0.8312701260244975\n",
      "Accuracy: 0.8640552995391705\n",
      "Recall: 0.828617440025997\n",
      "Precision: 0.8341916373555751\n"
     ]
    }
   ],
   "source": [
    "# 计算评估指标\n",
    "val_f1 = f1_score(valid_dataset.y,y_pred_val, average='macro')\n",
    "val_accuracy = accuracy_score(valid_dataset.y, y_pred_val)\n",
    "val_recall = recall_score(valid_dataset.y, y_pred_val, average='macro')\n",
    "val_precision = precision_score(valid_dataset.y, y_pred_val, average='macro')\n",
    "\n",
    "# 输出评估指标\n",
    "print('F1 score:', val_f1)\n",
    "print('Accuracy:', val_accuracy)\n",
    "print('Recall:', val_recall)\n",
    "print('Precision:', val_precision)"
   ]
  },
  {
   "cell_type": "markdown",
   "id": "21c9b3c7",
   "metadata": {},
   "source": [
    "# 测试集"
   ]
  },
  {
   "cell_type": "code",
   "execution_count": 14,
   "id": "74233d1b",
   "metadata": {},
   "outputs": [
    {
     "data": {
      "text/plain": [
       "array([[0, 0, 1],\n",
       "       [0, 1, 0],\n",
       "       [1, 0, 0],\n",
       "       ...,\n",
       "       [1, 0, 0],\n",
       "       [0, 0, 1],\n",
       "       [1, 0, 0]])"
      ]
     },
     "execution_count": 14,
     "metadata": {},
     "output_type": "execute_result"
    }
   ],
   "source": [
    "y_pred_test = model.predict(test_dataset)\n",
    "y_pred_test = np.round(y_pred_test).astype(int)\n",
    "y_pred_test = y_pred_test[:, :, 1]\n",
    "y_pred_test"
   ]
  },
  {
   "cell_type": "code",
   "execution_count": 15,
   "id": "c672066a",
   "metadata": {},
   "outputs": [],
   "source": [
    "# 将真实标签和预测标签转换为整数形式\n",
    "y_true = np.argmax(test_dataset.y, axis=1)\n",
    "y_pred = np.argmax(y_pred_test, axis=1)"
   ]
  },
  {
   "cell_type": "code",
   "execution_count": 16,
   "id": "6a9de056",
   "metadata": {},
   "outputs": [],
   "source": [
    "# 将标签转换为整数形式\n",
    "label_encoder = LabelEncoder()\n",
    "y_true = label_encoder.fit_transform(y_true)\n",
    "y_pred = label_encoder.transform(y_pred)"
   ]
  },
  {
   "cell_type": "code",
   "execution_count": 17,
   "id": "5f810879",
   "metadata": {},
   "outputs": [],
   "source": [
    "cm = confusion_matrix(y_true, y_pred)"
   ]
  },
  {
   "cell_type": "code",
   "execution_count": 18,
   "id": "af2838e7",
   "metadata": {},
   "outputs": [
    {
     "data": {
      "image/png": "[encoded data removed]",
      "text/plain": [
       "<Figure size 800x600 with 2 Axes>"
      ]
     },
     "metadata": {},
     "output_type": "display_data"
    }
   ],
   "source": [
    "class_names = label_encoder.classes_  # 类别名称\n",
    "\n",
    "# 绘制混淆矩阵图\n",
    "class_names = ['Bitter', 'Sweet', 'Tasteless']  # 类别名称\n",
    "\n",
    "# 绘制热力图\n",
    "plt.figure(figsize=(8, 6))\n",
    "sns.heatmap(cm, annot=True, fmt='d', cmap='Blues', xticklabels=class_names, yticklabels=class_names)\n",
    "plt.title('Confusion Matrix')\n",
    "plt.xlabel('Predicted Label')\n",
    "plt.ylabel('True Label')\n",
    "plt.show()"
   ]
  },
  {
   "cell_type": "code",
   "execution_count": 21,
   "id": "e4f3cb2d",
   "metadata": {},
   "outputs": [
    {
     "name": "stdout",
     "output_type": "stream",
     "text": [
      "F1 score: 0.8214284811116966\n",
      "Accuracy: 0.8517665130568356\n",
      "Recall: 0.8189491313940009\n",
      "Precision: 0.8245221631716709\n"
     ]
    }
   ],
   "source": [
    "# 计算评估指标\n",
    "test_f1 = f1_score(test_dataset.y,y_pred_test, average='macro')\n",
    "test_accuracy = accuracy_score(test_dataset.y, y_pred_test)\n",
    "test_recall = recall_score(test_dataset.y, y_pred_test, average='macro')\n",
    "test_precision = precision_score(test_dataset.y, y_pred_test, average='macro')\n",
    "\n",
    "# 输出评估指标\n",
    "print('F1 score:', test_f1)\n",
    "print('Accuracy:', test_accuracy)\n",
    "print('Recall:', test_recall)\n",
    "print('Precision:', test_precision)"
   ]
  },
  {
   "cell_type": "code",
   "execution_count": null,
   "id": "d71c7667",
   "metadata": {},
   "outputs": [],
   "source": []
  },
  {
   "cell_type": "code",
   "execution_count": null,
   "id": "c08446d5",
   "metadata": {},
   "outputs": [],
   "source": []
  }
 ],
 "metadata": {
  "kernelspec": {
   "display_name": "bittersweet",
   "language": "python",
   "name": "bittersweet"
  },
  "language_info": {
   "codemirror_mode": {
    "name": "ipython",
    "version": 3
   },
   "file_extension": ".py",
   "mimetype": "text/x-python",
   "name": "python",
   "nbconvert_exporter": "python",
   "pygments_lexer": "ipython3",
   "version": "3.8.16"
  }
 },
 "nbformat": 4,
 "nbformat_minor": 5
}
