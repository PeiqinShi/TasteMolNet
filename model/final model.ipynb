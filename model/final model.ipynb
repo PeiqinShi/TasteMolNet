{
 "cells": [
  {
   "cell_type": "code",
   "execution_count": 1,
   "id": "96edcbb5",
   "metadata": {},
   "outputs": [
    {
     "name": "stderr",
     "output_type": "stream",
     "text": [
      "Skipped loading some Tensorflow models, missing a dependency. No module named 'tensorflow'\n",
      "Skipped loading modules with pytorch-lightning dependency, missing a dependency. No module named 'pytorch_lightning'\n",
      "Skipped loading some Jax models, missing a dependency. No module named 'jax'\n"
     ]
    }
   ],
   "source": [
    "import pickle\n",
    "import pandas as pd\n",
    "import deepchem as dc\n",
    "import numpy as np"
   ]
  },
  {
   "cell_type": "code",
   "execution_count": 2,
   "id": "c61c3209",
   "metadata": {},
   "outputs": [
    {
     "name": "stderr",
     "output_type": "stream",
     "text": [
      "C:\\Users\\时培钦\\AppData\\Roaming\\Python\\Python38\\site-packages\\sklearn\\base.py:347: InconsistentVersionWarning: Trying to unpickle estimator LabelBinarizer from version 1.2.2 when using version 1.3.0. This might lead to breaking code or invalid results. Use at your own risk. For more info please refer to:\n",
      "https://scikit-learn.org/stable/model_persistence.html#security-maintainability-limitations\n",
      "  warnings.warn(\n",
      "C:\\Users\\时培钦\\AppData\\Roaming\\Python\\Python38\\site-packages\\sklearn\\base.py:347: InconsistentVersionWarning: Trying to unpickle estimator OneVsRestClassifier from version 1.2.2 when using version 1.3.0. This might lead to breaking code or invalid results. Use at your own risk. For more info please refer to:\n",
      "https://scikit-learn.org/stable/model_persistence.html#security-maintainability-limitations\n",
      "  warnings.warn(\n"
     ]
    }
   ],
   "source": [
    "with open('xgb_maccs_model.pkl', 'rb') as f:\n",
    "    xgb_maccs_model = pickle.load(f)"
   ]
  },
  {
   "cell_type": "code",
   "execution_count": 3,
   "id": "4a42bbd1",
   "metadata": {},
   "outputs": [],
   "source": [
    "data_pre = pd.read_csv('../data/food_Compound - 最终.csv',encoding='gb18030')\n",
    "data = pd.read_csv('../data/BST.csv',encoding = 'gb2312')"
   ]
  },
  {
   "cell_type": "code",
   "execution_count": 4,
   "id": "df1e0481",
   "metadata": {},
   "outputs": [
    {
     "data": {
      "text/html": [
       "<div>\n",
       "<style scoped>\n",
       "    .dataframe tbody tr th:only-of-type {\n",
       "        vertical-align: middle;\n",
       "    }\n",
       "\n",
       "    .dataframe tbody tr th {\n",
       "        vertical-align: top;\n",
       "    }\n",
       "\n",
       "    .dataframe thead th {\n",
       "        text-align: right;\n",
       "    }\n",
       "</style>\n",
       "<table border=\"1\" class=\"dataframe\">\n",
       "  <thead>\n",
       "    <tr style=\"text-align: right;\">\n",
       "      <th></th>\n",
       "      <th>Name</th>\n",
       "      <th>SMILES</th>\n",
       "      <th>Flavor type</th>\n",
       "      <th>Data resource</th>\n",
       "      <th>Label</th>\n",
       "    </tr>\n",
       "  </thead>\n",
       "  <tbody>\n",
       "    <tr>\n",
       "      <th>0</th>\n",
       "      <td>Conessine hydrobromide</td>\n",
       "      <td>Br.Br.CC1C2CCC3C4CC=C5CC(N(C)C)CCC5(C)C4CCC32CN1C</td>\n",
       "      <td>Bitter</td>\n",
       "      <td>BitterSweet, PlantMolecularTasteDB, BitterDB, ...</td>\n",
       "      <td>[1]</td>\n",
       "    </tr>\n",
       "    <tr>\n",
       "      <th>1</th>\n",
       "      <td>Arecoline hydrobromide</td>\n",
       "      <td>Br.COC(=O)C1=CCCN(C)C1</td>\n",
       "      <td>Bitter</td>\n",
       "      <td>BitterSweet, BitterDB, ChemTasteDB</td>\n",
       "      <td>[1]</td>\n",
       "    </tr>\n",
       "    <tr>\n",
       "      <th>2</th>\n",
       "      <td>Avocadyne</td>\n",
       "      <td>C#CCCCCCCCCCCCC(O)CC(O)CO</td>\n",
       "      <td>Bitter</td>\n",
       "      <td>PlantMolecularTasteDB, BitterDB, ChemTasteDB</td>\n",
       "      <td>[1]</td>\n",
       "    </tr>\n",
       "    <tr>\n",
       "      <th>3</th>\n",
       "      <td>1-Acetoxy-2,4-dihydroxyheptadeca-16-yne</td>\n",
       "      <td>C#CCCCCCCCCCCCC(O)CC(O)COC(C)=O</td>\n",
       "      <td>Bitter</td>\n",
       "      <td>BitterDB, ChemTasteDB</td>\n",
       "      <td>[1]</td>\n",
       "    </tr>\n",
       "    <tr>\n",
       "      <th>4</th>\n",
       "      <td>Hydrogen cyanide</td>\n",
       "      <td>C#N</td>\n",
       "      <td>Bitter</td>\n",
       "      <td>BitterSweet, BitterDB, ChemTasteDB</td>\n",
       "      <td>[1]</td>\n",
       "    </tr>\n",
       "    <tr>\n",
       "      <th>...</th>\n",
       "      <td>...</td>\n",
       "      <td>...</td>\n",
       "      <td>...</td>\n",
       "      <td>...</td>\n",
       "      <td>...</td>\n",
       "    </tr>\n",
       "    <tr>\n",
       "      <th>13021</th>\n",
       "      <td>CNP0005404</td>\n",
       "      <td>O=C1N(CC2=NC=CC=C2)CC3N1CCN(CC=4C=CC=CC4)C3</td>\n",
       "      <td>Tasteless</td>\n",
       "      <td>Coconut</td>\n",
       "      <td>[3]</td>\n",
       "    </tr>\n",
       "    <tr>\n",
       "      <th>13022</th>\n",
       "      <td>CNP0005405</td>\n",
       "      <td>O=C1N(CC=2C=NC=CC2)CC3N1CCN(C3)C4CCOCC4</td>\n",
       "      <td>Tasteless</td>\n",
       "      <td>Coconut</td>\n",
       "      <td>[3]</td>\n",
       "    </tr>\n",
       "    <tr>\n",
       "      <th>13023</th>\n",
       "      <td>CNP0005406</td>\n",
       "      <td>O=C1N(C=2C=CC=CC2)CC3N1CCN(C3)C4CCN(C(=O)C)CC4</td>\n",
       "      <td>Tasteless</td>\n",
       "      <td>Coconut</td>\n",
       "      <td>[3]</td>\n",
       "    </tr>\n",
       "    <tr>\n",
       "      <th>13024</th>\n",
       "      <td>CNP0005407</td>\n",
       "      <td>O=C1N(C=2C=CC=CC2)CC3N1CCN(CC4=NC=CC=C4)C3</td>\n",
       "      <td>Tasteless</td>\n",
       "      <td>Coconut</td>\n",
       "      <td>[3]</td>\n",
       "    </tr>\n",
       "    <tr>\n",
       "      <th>13025</th>\n",
       "      <td>CNP0005408</td>\n",
       "      <td>O=C(O)C1=CC=C(C=C1)CN2CCN3C(=O)N(C=4C=CC=CC4)C...</td>\n",
       "      <td>Tasteless</td>\n",
       "      <td>Coconut</td>\n",
       "      <td>[3]</td>\n",
       "    </tr>\n",
       "  </tbody>\n",
       "</table>\n",
       "<p>13026 rows × 5 columns</p>\n",
       "</div>"
      ],
      "text/plain": [
       "                                          Name  \\\n",
       "0                       Conessine hydrobromide   \n",
       "1                       Arecoline hydrobromide   \n",
       "2                                    Avocadyne   \n",
       "3      1-Acetoxy-2,4-dihydroxyheptadeca-16-yne   \n",
       "4                             Hydrogen cyanide   \n",
       "...                                        ...   \n",
       "13021                               CNP0005404   \n",
       "13022                               CNP0005405   \n",
       "13023                               CNP0005406   \n",
       "13024                               CNP0005407   \n",
       "13025                               CNP0005408   \n",
       "\n",
       "                                                  SMILES Flavor type  \\\n",
       "0      Br.Br.CC1C2CCC3C4CC=C5CC(N(C)C)CCC5(C)C4CCC32CN1C      Bitter   \n",
       "1                                 Br.COC(=O)C1=CCCN(C)C1      Bitter   \n",
       "2                              C#CCCCCCCCCCCCC(O)CC(O)CO      Bitter   \n",
       "3                        C#CCCCCCCCCCCCC(O)CC(O)COC(C)=O      Bitter   \n",
       "4                                                    C#N      Bitter   \n",
       "...                                                  ...         ...   \n",
       "13021        O=C1N(CC2=NC=CC=C2)CC3N1CCN(CC=4C=CC=CC4)C3   Tasteless   \n",
       "13022            O=C1N(CC=2C=NC=CC2)CC3N1CCN(C3)C4CCOCC4   Tasteless   \n",
       "13023     O=C1N(C=2C=CC=CC2)CC3N1CCN(C3)C4CCN(C(=O)C)CC4   Tasteless   \n",
       "13024         O=C1N(C=2C=CC=CC2)CC3N1CCN(CC4=NC=CC=C4)C3   Tasteless   \n",
       "13025  O=C(O)C1=CC=C(C=C1)CN2CCN3C(=O)N(C=4C=CC=CC4)C...   Tasteless   \n",
       "\n",
       "                                           Data resource Label  \n",
       "0      BitterSweet, PlantMolecularTasteDB, BitterDB, ...   [1]  \n",
       "1                     BitterSweet, BitterDB, ChemTasteDB   [1]  \n",
       "2           PlantMolecularTasteDB, BitterDB, ChemTasteDB   [1]  \n",
       "3                                  BitterDB, ChemTasteDB   [1]  \n",
       "4                     BitterSweet, BitterDB, ChemTasteDB   [1]  \n",
       "...                                                  ...   ...  \n",
       "13021                                            Coconut   [3]  \n",
       "13022                                            Coconut   [3]  \n",
       "13023                                            Coconut   [3]  \n",
       "13024                                            Coconut   [3]  \n",
       "13025                                            Coconut   [3]  \n",
       "\n",
       "[13026 rows x 5 columns]"
      ]
     },
     "execution_count": 4,
     "metadata": {},
     "output_type": "execute_result"
    }
   ],
   "source": [
    "data"
   ]
  },
  {
   "cell_type": "markdown",
   "id": "0961bdcb",
   "metadata": {},
   "source": [
    "# 特征提取"
   ]
  },
  {
   "cell_type": "code",
   "execution_count": 7,
   "id": "0920dcaa",
   "metadata": {},
   "outputs": [
    {
     "name": "stderr",
     "output_type": "stream",
     "text": [
      "[18:20:50] WARNING: not removing hydrogen atom without neighbors\n"
     ]
    }
   ],
   "source": [
    "featurizer_maccs = dc.feat.MACCSKeysFingerprint()\n",
    "features = featurizer_maccs.featurize(data['SMILES'])\n",
    "food_features = featurizer_maccs.featurize(data_pre['SMILES'])"
   ]
  },
  {
   "cell_type": "code",
   "execution_count": 8,
   "id": "dd2ef572",
   "metadata": {},
   "outputs": [],
   "source": [
    "from sklearn.feature_selection import VarianceThreshold\n",
    "\n",
    "# 初始化VarianceThreshold对象\n",
    "vt = VarianceThreshold(threshold = (.98 * (1 - .98)))\n",
    "\n",
    "# 进行特征选择\n",
    "data_maccs_new = vt.fit_transform(features)\n",
    "data_maccs_mask = vt.get_support(indices=True)\n",
    "food_maccs_features = food_features[:, data_maccs_mask]"
   ]
  },
  {
   "cell_type": "code",
   "execution_count": 9,
   "id": "c1040468",
   "metadata": {},
   "outputs": [
    {
     "data": {
      "text/plain": [
       "array([[0, 0, 0, ..., 1, 1, 0],\n",
       "       [0, 0, 0, ..., 1, 1, 0],\n",
       "       [0, 0, 0, ..., 1, 1, 0],\n",
       "       ...,\n",
       "       [0, 0, 0, ..., 1, 1, 0],\n",
       "       [0, 0, 0, ..., 1, 0, 0],\n",
       "       [0, 0, 0, ..., 1, 1, 0]])"
      ]
     },
     "execution_count": 9,
     "metadata": {},
     "output_type": "execute_result"
    }
   ],
   "source": [
    "food_maccs_features"
   ]
  },
  {
   "cell_type": "code",
   "execution_count": 35,
   "id": "d430effd",
   "metadata": {},
   "outputs": [],
   "source": [
    "pred = xgb_maccs_model.predict_proba(food_maccs_features)"
   ]
  },
  {
   "cell_type": "code",
   "execution_count": null,
   "id": "1ce38620",
   "metadata": {},
   "outputs": [],
   "source": []
  },
  {
   "cell_type": "code",
   "execution_count": 36,
   "id": "45f4214e",
   "metadata": {},
   "outputs": [
    {
     "data": {
      "text/plain": [
       "array([[9.8991549e-01, 3.0362075e-02, 4.5290082e-03],\n",
       "       [6.7332697e-01, 4.1162994e-02, 6.6338539e-02],\n",
       "       [9.8557299e-01, 1.7742950e-03, 2.0488137e-02],\n",
       "       ...,\n",
       "       [9.0497863e-01, 8.0142467e-04, 1.1613669e-01],\n",
       "       [9.8048383e-01, 1.5769441e-02, 4.7032223e-03],\n",
       "       [8.6469680e-02, 8.6672086e-01, 7.7768993e-05]], dtype=float32)"
      ]
     },
     "execution_count": 36,
     "metadata": {},
     "output_type": "execute_result"
    }
   ],
   "source": [
    "pred"
   ]
  },
  {
   "cell_type": "code",
   "execution_count": 37,
   "id": "82f79d2f",
   "metadata": {},
   "outputs": [],
   "source": [
    "rounded_array = np.around(pred, decimals=2)"
   ]
  },
  {
   "cell_type": "code",
   "execution_count": 38,
   "id": "0bc170cd",
   "metadata": {},
   "outputs": [
    {
     "data": {
      "text/plain": [
       "array([[0.99, 0.03, 0.  ],\n",
       "       [0.67, 0.04, 0.07],\n",
       "       [0.99, 0.  , 0.02],\n",
       "       ...,\n",
       "       [0.9 , 0.  , 0.12],\n",
       "       [0.98, 0.02, 0.  ],\n",
       "       [0.09, 0.87, 0.  ]], dtype=float32)"
      ]
     },
     "execution_count": 38,
     "metadata": {},
     "output_type": "execute_result"
    }
   ],
   "source": [
    "rounded_array"
   ]
  },
  {
   "cell_type": "code",
   "execution_count": 12,
   "id": "92537cf0",
   "metadata": {},
   "outputs": [
    {
     "data": {
      "text/html": [
       "<div>\n",
       "<style scoped>\n",
       "    .dataframe tbody tr th:only-of-type {\n",
       "        vertical-align: middle;\n",
       "    }\n",
       "\n",
       "    .dataframe tbody tr th {\n",
       "        vertical-align: top;\n",
       "    }\n",
       "\n",
       "    .dataframe thead th {\n",
       "        text-align: right;\n",
       "    }\n",
       "</style>\n",
       "<table border=\"1\" class=\"dataframe\">\n",
       "  <thead>\n",
       "    <tr style=\"text-align: right;\">\n",
       "      <th></th>\n",
       "      <th>id</th>\n",
       "      <th>public_id</th>\n",
       "      <th>name</th>\n",
       "      <th>SMILES</th>\n",
       "      <th>InDomain</th>\n",
       "    </tr>\n",
       "  </thead>\n",
       "  <tbody>\n",
       "    <tr>\n",
       "      <th>0</th>\n",
       "      <td>4</td>\n",
       "      <td>FDB000004</td>\n",
       "      <td>Cyanidin 3-(6''-acetyl-galactoside)</td>\n",
       "      <td>[H][C@]1(COC(C)=O)O[C@@]([H])(OC2=CC3=C(O)C=C(...</td>\n",
       "      <td>True</td>\n",
       "    </tr>\n",
       "    <tr>\n",
       "      <th>1</th>\n",
       "      <td>13</td>\n",
       "      <td>FDB000013</td>\n",
       "      <td>Cyanidin 3-(6''-succinyl-glucoside)</td>\n",
       "      <td>[H][C@]1(COC(=O)CCC(O)=O)O[C@@]([H])(OC2=CC3=C...</td>\n",
       "      <td>True</td>\n",
       "    </tr>\n",
       "    <tr>\n",
       "      <th>2</th>\n",
       "      <td>82</td>\n",
       "      <td>FDB000082</td>\n",
       "      <td>Butein</td>\n",
       "      <td>[H]\\C(=C(\\[H])C1=CC(O)=C(O)C=C1)C(=O)C1=C(O)C=...</td>\n",
       "      <td>True</td>\n",
       "    </tr>\n",
       "    <tr>\n",
       "      <th>3</th>\n",
       "      <td>86</td>\n",
       "      <td>FDB000086</td>\n",
       "      <td>3-Hydroxyphloretin 2'-O-glucoside</td>\n",
       "      <td>[H][C@]1(CO)O[C@@]([H])(OC2=CC(O)=CC(O)=C2C(=O...</td>\n",
       "      <td>True</td>\n",
       "    </tr>\n",
       "    <tr>\n",
       "      <th>4</th>\n",
       "      <td>108</td>\n",
       "      <td>FDB000108</td>\n",
       "      <td>Procyanidin trimer EEC</td>\n",
       "      <td>O[C@H]1CC2=C(O[C@@H]1C1=CC=C(O)C(O)=C1)C(C1[C@...</td>\n",
       "      <td>True</td>\n",
       "    </tr>\n",
       "    <tr>\n",
       "      <th>...</th>\n",
       "      <td>...</td>\n",
       "      <td>...</td>\n",
       "      <td>...</td>\n",
       "      <td>...</td>\n",
       "      <td>...</td>\n",
       "    </tr>\n",
       "    <tr>\n",
       "      <th>2631</th>\n",
       "      <td>139931</td>\n",
       "      <td>FDB112098</td>\n",
       "      <td>Tryptophyl-Tryptophan</td>\n",
       "      <td>NC(CC1=CNC2=C1C=CC=C2)C(=O)NC(CC1=CNC2=CC=CC=C...</td>\n",
       "      <td>True</td>\n",
       "    </tr>\n",
       "    <tr>\n",
       "      <th>2632</th>\n",
       "      <td>139932</td>\n",
       "      <td>FDB112099</td>\n",
       "      <td>Tryptophyl-Tyrosine</td>\n",
       "      <td>NC(CC1=CNC2=C1C=CC=C2)C(=O)NC(CC1=CC=C(O)C=C1)...</td>\n",
       "      <td>True</td>\n",
       "    </tr>\n",
       "    <tr>\n",
       "      <th>2633</th>\n",
       "      <td>139952</td>\n",
       "      <td>FDB112119</td>\n",
       "      <td>Tyrosyl-Tryptophan</td>\n",
       "      <td>NC(CC1=CC=C(O)C=C1)C(=O)NC(CC1=CNC2=CC=CC=C12)...</td>\n",
       "      <td>True</td>\n",
       "    </tr>\n",
       "    <tr>\n",
       "      <th>2634</th>\n",
       "      <td>139955</td>\n",
       "      <td>FDB112122</td>\n",
       "      <td>Valylalanine</td>\n",
       "      <td>CC(C)[C@H](N)C(=O)N[C@@H](C)C(O)=O</td>\n",
       "      <td>True</td>\n",
       "    </tr>\n",
       "    <tr>\n",
       "      <th>2635</th>\n",
       "      <td>139969</td>\n",
       "      <td>FDB112136</td>\n",
       "      <td>Valylphenylalanine</td>\n",
       "      <td>CC(C)[C@H](N)C(=O)N[C@@H](CC1=CC=CC=C1)C(O)=O</td>\n",
       "      <td>True</td>\n",
       "    </tr>\n",
       "  </tbody>\n",
       "</table>\n",
       "<p>2636 rows × 5 columns</p>\n",
       "</div>"
      ],
      "text/plain": [
       "          id  public_id                                 name  \\\n",
       "0          4  FDB000004  Cyanidin 3-(6''-acetyl-galactoside)   \n",
       "1         13  FDB000013  Cyanidin 3-(6''-succinyl-glucoside)   \n",
       "2         82  FDB000082                               Butein   \n",
       "3         86  FDB000086    3-Hydroxyphloretin 2'-O-glucoside   \n",
       "4        108  FDB000108               Procyanidin trimer EEC   \n",
       "...      ...        ...                                  ...   \n",
       "2631  139931  FDB112098                Tryptophyl-Tryptophan   \n",
       "2632  139932  FDB112099                  Tryptophyl-Tyrosine   \n",
       "2633  139952  FDB112119                   Tyrosyl-Tryptophan   \n",
       "2634  139955  FDB112122                         Valylalanine   \n",
       "2635  139969  FDB112136                   Valylphenylalanine   \n",
       "\n",
       "                                                 SMILES  InDomain  \n",
       "0     [H][C@]1(COC(C)=O)O[C@@]([H])(OC2=CC3=C(O)C=C(...      True  \n",
       "1     [H][C@]1(COC(=O)CCC(O)=O)O[C@@]([H])(OC2=CC3=C...      True  \n",
       "2     [H]\\C(=C(\\[H])C1=CC(O)=C(O)C=C1)C(=O)C1=C(O)C=...      True  \n",
       "3     [H][C@]1(CO)O[C@@]([H])(OC2=CC(O)=CC(O)=C2C(=O...      True  \n",
       "4     O[C@H]1CC2=C(O[C@@H]1C1=CC=C(O)C(O)=C1)C(C1[C@...      True  \n",
       "...                                                 ...       ...  \n",
       "2631  NC(CC1=CNC2=C1C=CC=C2)C(=O)NC(CC1=CNC2=CC=CC=C...      True  \n",
       "2632  NC(CC1=CNC2=C1C=CC=C2)C(=O)NC(CC1=CC=C(O)C=C1)...      True  \n",
       "2633  NC(CC1=CC=C(O)C=C1)C(=O)NC(CC1=CNC2=CC=CC=C12)...      True  \n",
       "2634                 CC(C)[C@H](N)C(=O)N[C@@H](C)C(O)=O      True  \n",
       "2635      CC(C)[C@H](N)C(=O)N[C@@H](CC1=CC=CC=C1)C(O)=O      True  \n",
       "\n",
       "[2636 rows x 5 columns]"
      ]
     },
     "execution_count": 12,
     "metadata": {},
     "output_type": "execute_result"
    }
   ],
   "source": [
    "data_pre"
   ]
  },
  {
   "cell_type": "code",
   "execution_count": 20,
   "id": "ca7a43d1",
   "metadata": {},
   "outputs": [],
   "source": [
    "pred_array  = np.array(pred)"
   ]
  },
  {
   "cell_type": "code",
   "execution_count": 39,
   "id": "e0e0e72c",
   "metadata": {},
   "outputs": [],
   "source": [
    "df = pd.DataFrame({\n",
    "    'public_id':data_pre['public_id'],\n",
    "    'name':data_pre['name'],\n",
    "    'SMILES':data_pre['SMILES'],\n",
    "    'InDomain':data_pre['InDomain'],\n",
    "    'pred':rounded_array.tolist()\n",
    "})"
   ]
  },
  {
   "cell_type": "code",
   "execution_count": 40,
   "id": "8802ac6d",
   "metadata": {},
   "outputs": [
    {
     "data": {
      "text/html": [
       "<div>\n",
       "<style scoped>\n",
       "    .dataframe tbody tr th:only-of-type {\n",
       "        vertical-align: middle;\n",
       "    }\n",
       "\n",
       "    .dataframe tbody tr th {\n",
       "        vertical-align: top;\n",
       "    }\n",
       "\n",
       "    .dataframe thead th {\n",
       "        text-align: right;\n",
       "    }\n",
       "</style>\n",
       "<table border=\"1\" class=\"dataframe\">\n",
       "  <thead>\n",
       "    <tr style=\"text-align: right;\">\n",
       "      <th></th>\n",
       "      <th>public_id</th>\n",
       "      <th>name</th>\n",
       "      <th>SMILES</th>\n",
       "      <th>InDomain</th>\n",
       "      <th>pred</th>\n",
       "    </tr>\n",
       "  </thead>\n",
       "  <tbody>\n",
       "    <tr>\n",
       "      <th>0</th>\n",
       "      <td>FDB000004</td>\n",
       "      <td>Cyanidin 3-(6''-acetyl-galactoside)</td>\n",
       "      <td>[H][C@]1(COC(C)=O)O[C@@]([H])(OC2=CC3=C(O)C=C(...</td>\n",
       "      <td>True</td>\n",
       "      <td>[0.9900000095367432, 0.029999999329447746, 0.0]</td>\n",
       "    </tr>\n",
       "    <tr>\n",
       "      <th>1</th>\n",
       "      <td>FDB000013</td>\n",
       "      <td>Cyanidin 3-(6''-succinyl-glucoside)</td>\n",
       "      <td>[H][C@]1(COC(=O)CCC(O)=O)O[C@@]([H])(OC2=CC3=C...</td>\n",
       "      <td>True</td>\n",
       "      <td>[0.6700000166893005, 0.03999999910593033, 0.07...</td>\n",
       "    </tr>\n",
       "    <tr>\n",
       "      <th>2</th>\n",
       "      <td>FDB000082</td>\n",
       "      <td>Butein</td>\n",
       "      <td>[H]\\C(=C(\\[H])C1=CC(O)=C(O)C=C1)C(=O)C1=C(O)C=...</td>\n",
       "      <td>True</td>\n",
       "      <td>[0.9900000095367432, 0.0, 0.019999999552965164]</td>\n",
       "    </tr>\n",
       "    <tr>\n",
       "      <th>3</th>\n",
       "      <td>FDB000086</td>\n",
       "      <td>3-Hydroxyphloretin 2'-O-glucoside</td>\n",
       "      <td>[H][C@]1(CO)O[C@@]([H])(OC2=CC(O)=CC(O)=C2C(=O...</td>\n",
       "      <td>True</td>\n",
       "      <td>[0.3199999928474426, 0.6600000262260437, 0.029...</td>\n",
       "    </tr>\n",
       "    <tr>\n",
       "      <th>4</th>\n",
       "      <td>FDB000108</td>\n",
       "      <td>Procyanidin trimer EEC</td>\n",
       "      <td>O[C@H]1CC2=C(O[C@@H]1C1=CC=C(O)C(O)=C1)C(C1[C@...</td>\n",
       "      <td>True</td>\n",
       "      <td>[0.8899999856948853, 0.009999999776482582, 0.0...</td>\n",
       "    </tr>\n",
       "    <tr>\n",
       "      <th>...</th>\n",
       "      <td>...</td>\n",
       "      <td>...</td>\n",
       "      <td>...</td>\n",
       "      <td>...</td>\n",
       "      <td>...</td>\n",
       "    </tr>\n",
       "    <tr>\n",
       "      <th>2631</th>\n",
       "      <td>FDB112098</td>\n",
       "      <td>Tryptophyl-Tryptophan</td>\n",
       "      <td>NC(CC1=CNC2=C1C=CC=C2)C(=O)NC(CC1=CNC2=CC=CC=C...</td>\n",
       "      <td>True</td>\n",
       "      <td>[1.0, 0.0, 0.009999999776482582]</td>\n",
       "    </tr>\n",
       "    <tr>\n",
       "      <th>2632</th>\n",
       "      <td>FDB112099</td>\n",
       "      <td>Tryptophyl-Tyrosine</td>\n",
       "      <td>NC(CC1=CNC2=C1C=CC=C2)C(=O)NC(CC1=CC=C(O)C=C1)...</td>\n",
       "      <td>True</td>\n",
       "      <td>[0.8999999761581421, 0.0, 0.11999999731779099]</td>\n",
       "    </tr>\n",
       "    <tr>\n",
       "      <th>2633</th>\n",
       "      <td>FDB112119</td>\n",
       "      <td>Tyrosyl-Tryptophan</td>\n",
       "      <td>NC(CC1=CC=C(O)C=C1)C(=O)NC(CC1=CNC2=CC=CC=C12)...</td>\n",
       "      <td>True</td>\n",
       "      <td>[0.8999999761581421, 0.0, 0.11999999731779099]</td>\n",
       "    </tr>\n",
       "    <tr>\n",
       "      <th>2634</th>\n",
       "      <td>FDB112122</td>\n",
       "      <td>Valylalanine</td>\n",
       "      <td>CC(C)[C@H](N)C(=O)N[C@@H](C)C(O)=O</td>\n",
       "      <td>True</td>\n",
       "      <td>[0.9800000190734863, 0.019999999552965164, 0.0]</td>\n",
       "    </tr>\n",
       "    <tr>\n",
       "      <th>2635</th>\n",
       "      <td>FDB112136</td>\n",
       "      <td>Valylphenylalanine</td>\n",
       "      <td>CC(C)[C@H](N)C(=O)N[C@@H](CC1=CC=CC=C1)C(O)=O</td>\n",
       "      <td>True</td>\n",
       "      <td>[0.09000000357627869, 0.8700000047683716, 0.0]</td>\n",
       "    </tr>\n",
       "  </tbody>\n",
       "</table>\n",
       "<p>2636 rows × 5 columns</p>\n",
       "</div>"
      ],
      "text/plain": [
       "      public_id                                 name  \\\n",
       "0     FDB000004  Cyanidin 3-(6''-acetyl-galactoside)   \n",
       "1     FDB000013  Cyanidin 3-(6''-succinyl-glucoside)   \n",
       "2     FDB000082                               Butein   \n",
       "3     FDB000086    3-Hydroxyphloretin 2'-O-glucoside   \n",
       "4     FDB000108               Procyanidin trimer EEC   \n",
       "...         ...                                  ...   \n",
       "2631  FDB112098                Tryptophyl-Tryptophan   \n",
       "2632  FDB112099                  Tryptophyl-Tyrosine   \n",
       "2633  FDB112119                   Tyrosyl-Tryptophan   \n",
       "2634  FDB112122                         Valylalanine   \n",
       "2635  FDB112136                   Valylphenylalanine   \n",
       "\n",
       "                                                 SMILES  InDomain  \\\n",
       "0     [H][C@]1(COC(C)=O)O[C@@]([H])(OC2=CC3=C(O)C=C(...      True   \n",
       "1     [H][C@]1(COC(=O)CCC(O)=O)O[C@@]([H])(OC2=CC3=C...      True   \n",
       "2     [H]\\C(=C(\\[H])C1=CC(O)=C(O)C=C1)C(=O)C1=C(O)C=...      True   \n",
       "3     [H][C@]1(CO)O[C@@]([H])(OC2=CC(O)=CC(O)=C2C(=O...      True   \n",
       "4     O[C@H]1CC2=C(O[C@@H]1C1=CC=C(O)C(O)=C1)C(C1[C@...      True   \n",
       "...                                                 ...       ...   \n",
       "2631  NC(CC1=CNC2=C1C=CC=C2)C(=O)NC(CC1=CNC2=CC=CC=C...      True   \n",
       "2632  NC(CC1=CNC2=C1C=CC=C2)C(=O)NC(CC1=CC=C(O)C=C1)...      True   \n",
       "2633  NC(CC1=CC=C(O)C=C1)C(=O)NC(CC1=CNC2=CC=CC=C12)...      True   \n",
       "2634                 CC(C)[C@H](N)C(=O)N[C@@H](C)C(O)=O      True   \n",
       "2635      CC(C)[C@H](N)C(=O)N[C@@H](CC1=CC=CC=C1)C(O)=O      True   \n",
       "\n",
       "                                                   pred  \n",
       "0       [0.9900000095367432, 0.029999999329447746, 0.0]  \n",
       "1     [0.6700000166893005, 0.03999999910593033, 0.07...  \n",
       "2       [0.9900000095367432, 0.0, 0.019999999552965164]  \n",
       "3     [0.3199999928474426, 0.6600000262260437, 0.029...  \n",
       "4     [0.8899999856948853, 0.009999999776482582, 0.0...  \n",
       "...                                                 ...  \n",
       "2631                   [1.0, 0.0, 0.009999999776482582]  \n",
       "2632     [0.8999999761581421, 0.0, 0.11999999731779099]  \n",
       "2633     [0.8999999761581421, 0.0, 0.11999999731779099]  \n",
       "2634    [0.9800000190734863, 0.019999999552965164, 0.0]  \n",
       "2635     [0.09000000357627869, 0.8700000047683716, 0.0]  \n",
       "\n",
       "[2636 rows x 5 columns]"
      ]
     },
     "execution_count": 40,
     "metadata": {},
     "output_type": "execute_result"
    }
   ],
   "source": [
    "df"
   ]
  },
  {
   "cell_type": "code",
   "execution_count": 42,
   "id": "122da7c4",
   "metadata": {},
   "outputs": [],
   "source": [
    "df.to_csv('result.csv')"
   ]
  },
  {
   "cell_type": "markdown",
   "id": "b8e225c1",
   "metadata": {},
   "source": [
    "# 单个数据预测"
   ]
  },
  {
   "cell_type": "code",
   "execution_count": null,
   "id": "cb5cc029",
   "metadata": {},
   "outputs": [],
   "source": []
  },
  {
   "cell_type": "code",
   "execution_count": 94,
   "id": "e969cb8f",
   "metadata": {},
   "outputs": [],
   "source": [
    "food_features = featurizer_maccs.featurize('C[C@H]1[C@@H]([C@H]([C@H]([C@@H](O1)O[C@@H]2[C@H]([C@@H]([C@H](O[C@H]2OC3=CC(=C4C(=O)C[C@H](OC4=C3)C5=CC=C(C=C5)O)O)CO)O)O)O)O)O')"
   ]
  },
  {
   "cell_type": "code",
   "execution_count": 95,
   "id": "a421f3bc",
   "metadata": {},
   "outputs": [
    {
     "data": {
      "text/plain": [
       "(1, 167)"
      ]
     },
     "execution_count": 95,
     "metadata": {},
     "output_type": "execute_result"
    }
   ],
   "source": [
    "food_features.shape"
   ]
  },
  {
   "cell_type": "code",
   "execution_count": 96,
   "id": "9de24e09",
   "metadata": {},
   "outputs": [],
   "source": [
    "food_maccs_features = food_features[:, data_maccs_mask]"
   ]
  },
  {
   "cell_type": "code",
   "execution_count": 97,
   "id": "371c6d24",
   "metadata": {},
   "outputs": [
    {
     "data": {
      "text/plain": [
       "(1, 134)"
      ]
     },
     "execution_count": 97,
     "metadata": {},
     "output_type": "execute_result"
    }
   ],
   "source": [
    "food_maccs_features.shape"
   ]
  },
  {
   "cell_type": "code",
   "execution_count": 98,
   "id": "94b6df16",
   "metadata": {},
   "outputs": [],
   "source": [
    "pred = xgb_maccs_model.predict_proba(food_maccs_features)\n",
    "rounded_array = np.around(pred, decimals=2)"
   ]
  },
  {
   "cell_type": "code",
   "execution_count": 99,
   "id": "7e8c1d90",
   "metadata": {},
   "outputs": [
    {
     "data": {
      "text/plain": [
       "array([[0.78, 0.12, 0.1 ]], dtype=float32)"
      ]
     },
     "execution_count": 99,
     "metadata": {},
     "output_type": "execute_result"
    }
   ],
   "source": [
    "rounded_array"
   ]
  },
  {
   "cell_type": "code",
   "execution_count": 5,
   "id": "7aeddca6",
   "metadata": {},
   "outputs": [],
   "source": [
    "data_pre = 'C[C@H]1[C@@H]([C@H]([C@H]([C@@H](O1)O[C@@H]2[C@H]([C@@H]([C@H](O[C@H]2OC3=CC(=C4C(=O)C[C@H](OC4=C3)C5=CC=C(C=C5)O)O)CO)O)O)O)O)O'\n",
    "data = pd.read_csv('../data/BST.csv', encoding='gb2312')\n",
    "featurizer_maccs = dc.feat.MACCSKeysFingerprint()\n",
    "features = featurizer_maccs.featurize(data['SMILES'])\n",
    "food_features = featurizer_maccs.featurize(data_pre)"
   ]
  },
  {
   "cell_type": "code",
   "execution_count": 7,
   "id": "39bddae5",
   "metadata": {},
   "outputs": [],
   "source": [
    "from sklearn.feature_selection import VarianceThreshold\n",
    "# 初始化VarianceThreshold对象\n",
    "vt = VarianceThreshold(threshold=(.98 * (1 - .98)))\n",
    "data_maccs_new = vt.fit_transform(features)\n",
    "data_maccs_mask = vt.get_support(indices=True)\n",
    "food_maccs_features = food_features[:, data_maccs_mask]"
   ]
  },
  {
   "cell_type": "code",
   "execution_count": 8,
   "id": "235c73f0",
   "metadata": {},
   "outputs": [
    {
     "data": {
      "text/plain": [
       "array([[0, 0, 0, 0, 0, 0, 0, 0, 0, 0, 0, 0, 0, 0, 0, 0, 0, 0, 0, 0, 0, 0,\n",
       "        0, 1, 1, 0, 1, 0, 0, 0, 0, 1, 0, 0, 0, 0, 0, 0, 0, 1, 0, 0, 0, 0,\n",
       "        0, 0, 0, 0, 0, 1, 0, 0, 0, 0, 0, 0, 1, 1, 1, 0, 0, 0, 0, 0, 0, 1,\n",
       "        0, 0, 1, 0, 0, 0, 1, 0, 0, 0, 1, 0, 0, 0, 1, 0, 0, 0, 0, 0, 0, 1,\n",
       "        0, 0, 1, 0, 1, 1, 1, 0, 0, 0, 1, 1, 0, 0, 0, 0, 1, 0, 1, 1, 0, 0,\n",
       "        1, 1, 1, 1, 0, 0, 0, 1, 0, 1, 1, 1, 1, 0, 1, 0, 1, 1, 0, 1, 1, 1,\n",
       "        1, 0]])"
      ]
     },
     "execution_count": 8,
     "metadata": {},
     "output_type": "execute_result"
    }
   ],
   "source": [
    "food_maccs_features"
   ]
  },
  {
   "cell_type": "code",
   "execution_count": 9,
   "id": "e936d5e6",
   "metadata": {},
   "outputs": [],
   "source": [
    "pred = xgb_maccs_model.predict(food_maccs_features)"
   ]
  },
  {
   "cell_type": "code",
   "execution_count": 10,
   "id": "ad5a88ab",
   "metadata": {},
   "outputs": [
    {
     "data": {
      "text/plain": [
       "array([[1, 0, 0]])"
      ]
     },
     "execution_count": 10,
     "metadata": {},
     "output_type": "execute_result"
    }
   ],
   "source": [
    "pred"
   ]
  },
  {
   "cell_type": "code",
   "execution_count": 12,
   "id": "d58afe3a",
   "metadata": {},
   "outputs": [],
   "source": [
    "result_list = pred.flatten().tolist()"
   ]
  },
  {
   "cell_type": "code",
   "execution_count": 16,
   "id": "74a54161",
   "metadata": {},
   "outputs": [],
   "source": [
    "if result_list == [1, 0, 0]:\n",
    "    taste = \"苦味\"\n",
    "elif result_list == [0, 1, 0]:\n",
    "    taste = \"甜味\"\n",
    "elif result_list == [0, 0, 1]:\n",
    "    taste = \"无味\"\n",
    "else:\n",
    "    taste = \"未知味道\""
   ]
  },
  {
   "cell_type": "code",
   "execution_count": 18,
   "id": "66fec8f4",
   "metadata": {},
   "outputs": [
    {
     "data": {
      "text/plain": [
       "'苦味'"
      ]
     },
     "execution_count": 18,
     "metadata": {},
     "output_type": "execute_result"
    }
   ],
   "source": [
    "taste"
   ]
  },
  {
   "cell_type": "code",
   "execution_count": null,
   "id": "6f95f6d3",
   "metadata": {},
   "outputs": [],
   "source": []
  }
 ],
 "metadata": {
  "kernelspec": {
   "display_name": "bittersweet",
   "language": "python",
   "name": "bittersweet"
  },
  "language_info": {
   "codemirror_mode": {
    "name": "ipython",
    "version": 3
   },
   "file_extension": ".py",
   "mimetype": "text/x-python",
   "name": "python",
   "nbconvert_exporter": "python",
   "pygments_lexer": "ipython3",
   "version": "3.8.16"
  }
 },
 "nbformat": 4,
 "nbformat_minor": 5
}
