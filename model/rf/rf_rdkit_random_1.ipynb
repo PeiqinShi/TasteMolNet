{
 "cells": [
  {
   "cell_type": "code",
   "execution_count": 1,
   "id": "f8717c99",
   "metadata": {},
   "outputs": [
    {
     "name": "stderr",
     "output_type": "stream",
     "text": [
      "Skipped loading some Tensorflow models, missing a dependency. No module named 'tensorflow'\n",
      "Skipped loading some PyTorch models, missing a dependency. No module named 'torch'\n",
      "Skipped loading modules with pytorch-geometric dependency, missing a dependency. No module named 'torch'\n",
      "Skipped loading modules with pytorch-lightning dependency, missing a dependency. No module named 'torch'\n",
      "Skipped loading some Jax models, missing a dependency. No module named 'jax'\n"
     ]
    }
   ],
   "source": [
    "import deepchem as dc\n",
    "\n",
    "import pandas as pd\n",
    "import numpy as np\n",
    "\n",
    "import sklearn\n",
    "from sklearn.ensemble import RandomForestClassifier\n",
    "from sklearn.multiclass import OneVsRestClassifier\n",
    "from sklearn.preprocessing import MultiLabelBinarizer\n",
    "from sklearn.model_selection import GridSearchCV\n",
    "from sklearn.model_selection import KFold\n",
    "\n",
    "from sklearn import metrics\n",
    "from sklearn.metrics import confusion_matrix\n",
    "from sklearn.metrics import make_scorer\n",
    "from sklearn.metrics import accuracy_score\n",
    "from sklearn.metrics import f1_score\n",
    "from sklearn.metrics import recall_score\n",
    "from sklearn.metrics import precision_score\n",
    "\n",
    "import ast\n",
    "import matplotlib.pyplot as plt\n",
    "from collections import Counter\n",
    "from sklearn.manifold import TSNE\n",
    "import seaborn as sns\n",
    "plt.rcParams['figure.dpi'] = 300\n",
    "\n",
    "from sklearn.preprocessing import LabelEncoder"
   ]
  },
  {
   "cell_type": "code",
   "execution_count": 2,
   "id": "3e8c838a",
   "metadata": {},
   "outputs": [],
   "source": [
    "data = pd.read_csv('../../data/BST.csv',encoding = 'gb2312')"
   ]
  },
  {
   "cell_type": "code",
   "execution_count": 3,
   "id": "e1244530",
   "metadata": {},
   "outputs": [
    {
     "data": {
      "text/html": [
       "<div>\n",
       "<style scoped>\n",
       "    .dataframe tbody tr th:only-of-type {\n",
       "        vertical-align: middle;\n",
       "    }\n",
       "\n",
       "    .dataframe tbody tr th {\n",
       "        vertical-align: top;\n",
       "    }\n",
       "\n",
       "    .dataframe thead th {\n",
       "        text-align: right;\n",
       "    }\n",
       "</style>\n",
       "<table border=\"1\" class=\"dataframe\">\n",
       "  <thead>\n",
       "    <tr style=\"text-align: right;\">\n",
       "      <th></th>\n",
       "      <th>Name</th>\n",
       "      <th>SMILES</th>\n",
       "      <th>Flavor type</th>\n",
       "      <th>Data resource</th>\n",
       "      <th>Label</th>\n",
       "    </tr>\n",
       "  </thead>\n",
       "  <tbody>\n",
       "    <tr>\n",
       "      <th>0</th>\n",
       "      <td>Conessine hydrobromide</td>\n",
       "      <td>Br.Br.CC1C2CCC3C4CC=C5CC(N(C)C)CCC5(C)C4CCC32CN1C</td>\n",
       "      <td>Bitter</td>\n",
       "      <td>BitterSweet, PlantMolecularTasteDB, BitterDB, ...</td>\n",
       "      <td>[1]</td>\n",
       "    </tr>\n",
       "    <tr>\n",
       "      <th>1</th>\n",
       "      <td>Arecoline hydrobromide</td>\n",
       "      <td>Br.COC(=O)C1=CCCN(C)C1</td>\n",
       "      <td>Bitter</td>\n",
       "      <td>BitterSweet, BitterDB, ChemTasteDB</td>\n",
       "      <td>[1]</td>\n",
       "    </tr>\n",
       "    <tr>\n",
       "      <th>2</th>\n",
       "      <td>Avocadyne</td>\n",
       "      <td>C#CCCCCCCCCCCCC(O)CC(O)CO</td>\n",
       "      <td>Bitter</td>\n",
       "      <td>PlantMolecularTasteDB, BitterDB, ChemTasteDB</td>\n",
       "      <td>[1]</td>\n",
       "    </tr>\n",
       "    <tr>\n",
       "      <th>3</th>\n",
       "      <td>1-Acetoxy-2,4-dihydroxyheptadeca-16-yne</td>\n",
       "      <td>C#CCCCCCCCCCCCC(O)CC(O)COC(C)=O</td>\n",
       "      <td>Bitter</td>\n",
       "      <td>BitterDB, ChemTasteDB</td>\n",
       "      <td>[1]</td>\n",
       "    </tr>\n",
       "    <tr>\n",
       "      <th>4</th>\n",
       "      <td>Hydrogen cyanide</td>\n",
       "      <td>C#N</td>\n",
       "      <td>Bitter</td>\n",
       "      <td>BitterSweet, BitterDB, ChemTasteDB</td>\n",
       "      <td>[1]</td>\n",
       "    </tr>\n",
       "    <tr>\n",
       "      <th>...</th>\n",
       "      <td>...</td>\n",
       "      <td>...</td>\n",
       "      <td>...</td>\n",
       "      <td>...</td>\n",
       "      <td>...</td>\n",
       "    </tr>\n",
       "    <tr>\n",
       "      <th>13021</th>\n",
       "      <td>CNP0005404</td>\n",
       "      <td>O=C1N(CC2=NC=CC=C2)CC3N1CCN(CC=4C=CC=CC4)C3</td>\n",
       "      <td>Tasteless</td>\n",
       "      <td>Coconut</td>\n",
       "      <td>[3]</td>\n",
       "    </tr>\n",
       "    <tr>\n",
       "      <th>13022</th>\n",
       "      <td>CNP0005405</td>\n",
       "      <td>O=C1N(CC=2C=NC=CC2)CC3N1CCN(C3)C4CCOCC4</td>\n",
       "      <td>Tasteless</td>\n",
       "      <td>Coconut</td>\n",
       "      <td>[3]</td>\n",
       "    </tr>\n",
       "    <tr>\n",
       "      <th>13023</th>\n",
       "      <td>CNP0005406</td>\n",
       "      <td>O=C1N(C=2C=CC=CC2)CC3N1CCN(C3)C4CCN(C(=O)C)CC4</td>\n",
       "      <td>Tasteless</td>\n",
       "      <td>Coconut</td>\n",
       "      <td>[3]</td>\n",
       "    </tr>\n",
       "    <tr>\n",
       "      <th>13024</th>\n",
       "      <td>CNP0005407</td>\n",
       "      <td>O=C1N(C=2C=CC=CC2)CC3N1CCN(CC4=NC=CC=C4)C3</td>\n",
       "      <td>Tasteless</td>\n",
       "      <td>Coconut</td>\n",
       "      <td>[3]</td>\n",
       "    </tr>\n",
       "    <tr>\n",
       "      <th>13025</th>\n",
       "      <td>CNP0005408</td>\n",
       "      <td>O=C(O)C1=CC=C(C=C1)CN2CCN3C(=O)N(C=4C=CC=CC4)C...</td>\n",
       "      <td>Tasteless</td>\n",
       "      <td>Coconut</td>\n",
       "      <td>[3]</td>\n",
       "    </tr>\n",
       "  </tbody>\n",
       "</table>\n",
       "<p>13026 rows × 5 columns</p>\n",
       "</div>"
      ],
      "text/plain": [
       "                                          Name  \\\n",
       "0                       Conessine hydrobromide   \n",
       "1                       Arecoline hydrobromide   \n",
       "2                                    Avocadyne   \n",
       "3      1-Acetoxy-2,4-dihydroxyheptadeca-16-yne   \n",
       "4                             Hydrogen cyanide   \n",
       "...                                        ...   \n",
       "13021                               CNP0005404   \n",
       "13022                               CNP0005405   \n",
       "13023                               CNP0005406   \n",
       "13024                               CNP0005407   \n",
       "13025                               CNP0005408   \n",
       "\n",
       "                                                  SMILES Flavor type  \\\n",
       "0      Br.Br.CC1C2CCC3C4CC=C5CC(N(C)C)CCC5(C)C4CCC32CN1C      Bitter   \n",
       "1                                 Br.COC(=O)C1=CCCN(C)C1      Bitter   \n",
       "2                              C#CCCCCCCCCCCCC(O)CC(O)CO      Bitter   \n",
       "3                        C#CCCCCCCCCCCCC(O)CC(O)COC(C)=O      Bitter   \n",
       "4                                                    C#N      Bitter   \n",
       "...                                                  ...         ...   \n",
       "13021        O=C1N(CC2=NC=CC=C2)CC3N1CCN(CC=4C=CC=CC4)C3   Tasteless   \n",
       "13022            O=C1N(CC=2C=NC=CC2)CC3N1CCN(C3)C4CCOCC4   Tasteless   \n",
       "13023     O=C1N(C=2C=CC=CC2)CC3N1CCN(C3)C4CCN(C(=O)C)CC4   Tasteless   \n",
       "13024         O=C1N(C=2C=CC=CC2)CC3N1CCN(CC4=NC=CC=C4)C3   Tasteless   \n",
       "13025  O=C(O)C1=CC=C(C=C1)CN2CCN3C(=O)N(C=4C=CC=CC4)C...   Tasteless   \n",
       "\n",
       "                                           Data resource Label  \n",
       "0      BitterSweet, PlantMolecularTasteDB, BitterDB, ...   [1]  \n",
       "1                     BitterSweet, BitterDB, ChemTasteDB   [1]  \n",
       "2           PlantMolecularTasteDB, BitterDB, ChemTasteDB   [1]  \n",
       "3                                  BitterDB, ChemTasteDB   [1]  \n",
       "4                     BitterSweet, BitterDB, ChemTasteDB   [1]  \n",
       "...                                                  ...   ...  \n",
       "13021                                            Coconut   [3]  \n",
       "13022                                            Coconut   [3]  \n",
       "13023                                            Coconut   [3]  \n",
       "13024                                            Coconut   [3]  \n",
       "13025                                            Coconut   [3]  \n",
       "\n",
       "[13026 rows x 5 columns]"
      ]
     },
     "execution_count": 3,
     "metadata": {},
     "output_type": "execute_result"
    }
   ],
   "source": [
    "data"
   ]
  },
  {
   "cell_type": "markdown",
   "id": "155b1c07",
   "metadata": {},
   "source": [
    "# 特征提取"
   ]
  },
  {
   "cell_type": "code",
   "execution_count": 4,
   "id": "a7f7ad4a",
   "metadata": {
    "scrolled": true
   },
   "outputs": [],
   "source": [
    "featurizer = dc.feat.RDKitDescriptors()\n",
    "features = featurizer.featurize(data['SMILES'])\n",
    "#dataset = dc.data.NumpyDataset(features,data['Label'])"
   ]
  },
  {
   "cell_type": "code",
   "execution_count": 5,
   "id": "f33fe765",
   "metadata": {},
   "outputs": [
    {
     "data": {
      "text/plain": [
       "(13026, 209)"
      ]
     },
     "execution_count": 5,
     "metadata": {},
     "output_type": "execute_result"
    }
   ],
   "source": [
    "features.shape"
   ]
  },
  {
   "cell_type": "code",
   "execution_count": 6,
   "id": "0e8edcc6",
   "metadata": {},
   "outputs": [],
   "source": [
    "nan_columns = np.isnan(features).any(axis=0)\n",
    "deleted_columns = np.where(nan_columns)[0]\n",
    "features_without_nan = features[:, ~nan_columns]"
   ]
  },
  {
   "cell_type": "code",
   "execution_count": 7,
   "id": "4491ded0",
   "metadata": {},
   "outputs": [
    {
     "name": "stdout",
     "output_type": "stream",
     "text": [
      "删除的列索引： [10 11 12 13 17 18 19 20 21 22 23 24]\n"
     ]
    }
   ],
   "source": [
    "print(\"删除的列索引：\", deleted_columns)"
   ]
  },
  {
   "cell_type": "code",
   "execution_count": 8,
   "id": "fcf2b7be",
   "metadata": {},
   "outputs": [
    {
     "data": {
      "text/plain": [
       "(13026, 197)"
      ]
     },
     "execution_count": 8,
     "metadata": {},
     "output_type": "execute_result"
    }
   ],
   "source": [
    "features_without_nan.shape"
   ]
  },
  {
   "cell_type": "code",
   "execution_count": 9,
   "id": "16da599a",
   "metadata": {},
   "outputs": [],
   "source": [
    "from sklearn.feature_selection import VarianceThreshold\n",
    "\n",
    "# 初始化VarianceThreshold对象\n",
    "vt = VarianceThreshold(threshold = (.98 * (1 - .98)))\n",
    "\n",
    "# 进行特征选择\n",
    "X_new = vt.fit_transform(features_without_nan)\n",
    "dataset = dc.data.NumpyDataset(X_new,data['Label'])"
   ]
  },
  {
   "cell_type": "code",
   "execution_count": 10,
   "id": "0497c687",
   "metadata": {},
   "outputs": [
    {
     "data": {
      "text/plain": [
       "(13026, 157)"
      ]
     },
     "execution_count": 10,
     "metadata": {},
     "output_type": "execute_result"
    }
   ],
   "source": [
    "X_new.shape"
   ]
  },
  {
   "cell_type": "markdown",
   "id": "b5870f6d",
   "metadata": {},
   "source": [
    "## 数据划分"
   ]
  },
  {
   "cell_type": "code",
   "execution_count": 12,
   "id": "166f9615",
   "metadata": {},
   "outputs": [],
   "source": [
    "splitter = dc.splits.RandomSplitter()#ScaffoldSplitter()\n",
    "train_dataset,test_dataset = splitter.train_test_split(dataset=dataset,frac_train=0.8,seed=200)"
   ]
  },
  {
   "cell_type": "markdown",
   "id": "93e39b5e",
   "metadata": {},
   "source": [
    "# Multi-label"
   ]
  },
  {
   "cell_type": "code",
   "execution_count": 13,
   "id": "b34164ca",
   "metadata": {},
   "outputs": [],
   "source": [
    "train_dataset_y = [ast.literal_eval(label) for label in train_dataset.y]\n",
    "test_dataset_y  = [ast.literal_eval(label) for label in test_dataset.y]\n",
    "train_new_y = MultiLabelBinarizer().fit_transform(train_dataset_y)\n",
    "test_new_y = MultiLabelBinarizer().fit_transform(test_dataset_y)"
   ]
  },
  {
   "cell_type": "markdown",
   "id": "e6b23d8c",
   "metadata": {},
   "source": [
    "# Data distribution ratio"
   ]
  },
  {
   "cell_type": "code",
   "execution_count": 14,
   "id": "53b67e29",
   "metadata": {},
   "outputs": [],
   "source": [
    "def row_counter(my_array):\n",
    "    list_of_tups = [tuple(ele) for ele in my_array]\n",
    "    return Counter(list_of_tups)"
   ]
  },
  {
   "cell_type": "code",
   "execution_count": 15,
   "id": "f69f49b3",
   "metadata": {},
   "outputs": [
    {
     "name": "stdout",
     "output_type": "stream",
     "text": [
      "train_dataset: Counter({(0, 1, 0): 4883, (0, 0, 1): 3961, (1, 0, 0): 1576})\n",
      "Bitter : Sweet : Tasteless =  0.15124760076775431 : 0.4686180422264875 : 0.38013435700575815\n",
      "test_dataset: Counter({(0, 1, 0): 1216, (0, 0, 1): 1020, (1, 0, 0): 370})\n",
      "Bitter : Sweet : Tasteless =  0.1419800460475825 : 0.46661550268610896 : 0.3914044512663085\n"
     ]
    }
   ],
   "source": [
    "print('train_dataset:',row_counter(train_new_y))\n",
    "train_counter = row_counter(train_new_y)\n",
    "print('Bitter : Sweet : Tasteless = ',train_counter[(1, 0, 0)]/10420,':',train_counter[(0, 1, 0)]/10420,':',train_counter[(0, 0, 1)]/10420)\n",
    "print('test_dataset:',row_counter(test_new_y))\n",
    "test_counter = row_counter(test_new_y)\n",
    "print('Bitter : Sweet : Tasteless = ',test_counter[(1, 0, 0)]/2606,':',test_counter[(0, 1, 0)]/2606,':',test_counter[(0, 0, 1)]/2606)"
   ]
  },
  {
   "cell_type": "markdown",
   "id": "e784c487",
   "metadata": {},
   "source": [
    "# GridSearchCV"
   ]
  },
  {
   "cell_type": "code",
   "execution_count": 16,
   "id": "faddcc4d",
   "metadata": {},
   "outputs": [],
   "source": [
    "scoring = {\n",
    "     'F1_score': make_scorer(f1_score,average ='macro'),\n",
    "     'Accuracy': make_scorer(accuracy_score),\n",
    "     'Recall': make_scorer(recall_score,average = 'macro'),\n",
    "     'Precision':make_scorer(precision_score,average = 'macro'),\n",
    "}\n",
    "\n",
    "\n",
    "param_grid = {\n",
    "    'estimator__n_estimators': [220,240,260,280,300,320,340],\n",
    "    'estimator__max_depth': [40,50,60,70,80],\n",
    "}"
   ]
  },
  {
   "cell_type": "code",
   "execution_count": 17,
   "id": "a26444c6",
   "metadata": {},
   "outputs": [],
   "source": [
    "classifier = RandomForestClassifier(random_state=42)\n",
    "ovr = OneVsRestClassifier(classifier)\n",
    "\n",
    "gs = GridSearchCV(\n",
    "                    ovr,\n",
    "                    param_grid,\n",
    "                    scoring = scoring,\n",
    "                    cv = KFold(n_splits=5, shuffle=True, random_state=200),\n",
    "                    n_jobs = 25,\n",
    "                    refit = 'F1_score',\n",
    "                    return_train_score = True)\n",
    "\n",
    "gs_fit = gs.fit(train_dataset.X,train_new_y)"
   ]
  },
  {
   "cell_type": "code",
   "execution_count": 18,
   "id": "6d5b6352",
   "metadata": {},
   "outputs": [],
   "source": [
    "val_F1 = gs.best_score_\n",
    "val_ACC = gs.cv_results_['mean_test_Accuracy'][gs.best_index_]\n",
    "val_Recall = gs.cv_results_['mean_test_Recall'][gs.best_index_]\n",
    "val_Precision = gs.cv_results_['mean_test_Precision'][gs.best_index_]"
   ]
  },
  {
   "cell_type": "code",
   "execution_count": 19,
   "id": "d07e9924",
   "metadata": {},
   "outputs": [
    {
     "name": "stdout",
     "output_type": "stream",
     "text": [
      "Best parameters:  {'estimator__max_depth': 40, 'estimator__n_estimators': 220}\n",
      "Best score (F1):  0.8513113085743109\n",
      "Accuracy: 0.8467370441458734\n",
      "Recall: 0.807589529869551\n",
      "Precision: 0.9039362108881587\n"
     ]
    }
   ],
   "source": [
    "print('Best parameters: ', gs.best_params_)\n",
    "print('Best score (F1): ', val_F1)\n",
    "print('Accuracy:',val_ACC)\n",
    "print('Recall:',val_Recall)\n",
    "print('Precision:',val_Precision)"
   ]
  },
  {
   "cell_type": "code",
   "execution_count": 20,
   "id": "61b16bc6",
   "metadata": {
    "scrolled": true
   },
   "outputs": [
    {
     "data": {
      "text/html": [
       "<style>#sk-container-id-1 {color: black;background-color: white;}#sk-container-id-1 pre{padding: 0;}#sk-container-id-1 div.sk-toggleable {background-color: white;}#sk-container-id-1 label.sk-toggleable__label {cursor: pointer;display: block;width: 100%;margin-bottom: 0;padding: 0.3em;box-sizing: border-box;text-align: center;}#sk-container-id-1 label.sk-toggleable__label-arrow:before {content: \"▸\";float: left;margin-right: 0.25em;color: #696969;}#sk-container-id-1 label.sk-toggleable__label-arrow:hover:before {color: black;}#sk-container-id-1 div.sk-estimator:hover label.sk-toggleable__label-arrow:before {color: black;}#sk-container-id-1 div.sk-toggleable__content {max-height: 0;max-width: 0;overflow: hidden;text-align: left;background-color: #f0f8ff;}#sk-container-id-1 div.sk-toggleable__content pre {margin: 0.2em;color: black;border-radius: 0.25em;background-color: #f0f8ff;}#sk-container-id-1 input.sk-toggleable__control:checked~div.sk-toggleable__content {max-height: 200px;max-width: 100%;overflow: auto;}#sk-container-id-1 input.sk-toggleable__control:checked~label.sk-toggleable__label-arrow:before {content: \"▾\";}#sk-container-id-1 div.sk-estimator input.sk-toggleable__control:checked~label.sk-toggleable__label {background-color: #d4ebff;}#sk-container-id-1 div.sk-label input.sk-toggleable__control:checked~label.sk-toggleable__label {background-color: #d4ebff;}#sk-container-id-1 input.sk-hidden--visually {border: 0;clip: rect(1px 1px 1px 1px);clip: rect(1px, 1px, 1px, 1px);height: 1px;margin: -1px;overflow: hidden;padding: 0;position: absolute;width: 1px;}#sk-container-id-1 div.sk-estimator {font-family: monospace;background-color: #f0f8ff;border: 1px dotted black;border-radius: 0.25em;box-sizing: border-box;margin-bottom: 0.5em;}#sk-container-id-1 div.sk-estimator:hover {background-color: #d4ebff;}#sk-container-id-1 div.sk-parallel-item::after {content: \"\";width: 100%;border-bottom: 1px solid gray;flex-grow: 1;}#sk-container-id-1 div.sk-label:hover label.sk-toggleable__label {background-color: #d4ebff;}#sk-container-id-1 div.sk-serial::before {content: \"\";position: absolute;border-left: 1px solid gray;box-sizing: border-box;top: 0;bottom: 0;left: 50%;z-index: 0;}#sk-container-id-1 div.sk-serial {display: flex;flex-direction: column;align-items: center;background-color: white;padding-right: 0.2em;padding-left: 0.2em;position: relative;}#sk-container-id-1 div.sk-item {position: relative;z-index: 1;}#sk-container-id-1 div.sk-parallel {display: flex;align-items: stretch;justify-content: center;background-color: white;position: relative;}#sk-container-id-1 div.sk-item::before, #sk-container-id-1 div.sk-parallel-item::before {content: \"\";position: absolute;border-left: 1px solid gray;box-sizing: border-box;top: 0;bottom: 0;left: 50%;z-index: -1;}#sk-container-id-1 div.sk-parallel-item {display: flex;flex-direction: column;z-index: 1;position: relative;background-color: white;}#sk-container-id-1 div.sk-parallel-item:first-child::after {align-self: flex-end;width: 50%;}#sk-container-id-1 div.sk-parallel-item:last-child::after {align-self: flex-start;width: 50%;}#sk-container-id-1 div.sk-parallel-item:only-child::after {width: 0;}#sk-container-id-1 div.sk-dashed-wrapped {border: 1px dashed gray;margin: 0 0.4em 0.5em 0.4em;box-sizing: border-box;padding-bottom: 0.4em;background-color: white;}#sk-container-id-1 div.sk-label label {font-family: monospace;font-weight: bold;display: inline-block;line-height: 1.2em;}#sk-container-id-1 div.sk-label-container {text-align: center;}#sk-container-id-1 div.sk-container {/* jupyter's `normalize.less` sets `[hidden] { display: none; }` but bootstrap.min.css set `[hidden] { display: none !important; }` so we also need the `!important` here to be able to override the default hidden behavior on the sphinx rendered scikit-learn.org. See: https://github.com/scikit-learn/scikit-learn/issues/21755 */display: inline-block !important;position: relative;}#sk-container-id-1 div.sk-text-repr-fallback {display: none;}</style><div id=\"sk-container-id-1\" class=\"sk-top-container\"><div class=\"sk-text-repr-fallback\"><pre>OneVsRestClassifier(estimator=RandomForestClassifier(max_depth=40,\n",
       "                                                     n_estimators=220,\n",
       "                                                     random_state=42))</pre><b>In a Jupyter environment, please rerun this cell to show the HTML representation or trust the notebook. <br />On GitHub, the HTML representation is unable to render, please try loading this page with nbviewer.org.</b></div><div class=\"sk-container\" hidden><div class=\"sk-item sk-dashed-wrapped\"><div class=\"sk-label-container\"><div class=\"sk-label sk-toggleable\"><input class=\"sk-toggleable__control sk-hidden--visually\" id=\"sk-estimator-id-1\" type=\"checkbox\" ><label for=\"sk-estimator-id-1\" class=\"sk-toggleable__label sk-toggleable__label-arrow\">OneVsRestClassifier</label><div class=\"sk-toggleable__content\"><pre>OneVsRestClassifier(estimator=RandomForestClassifier(max_depth=40,\n",
       "                                                     n_estimators=220,\n",
       "                                                     random_state=42))</pre></div></div></div><div class=\"sk-parallel\"><div class=\"sk-parallel-item\"><div class=\"sk-item\"><div class=\"sk-label-container\"><div class=\"sk-label sk-toggleable\"><input class=\"sk-toggleable__control sk-hidden--visually\" id=\"sk-estimator-id-2\" type=\"checkbox\" ><label for=\"sk-estimator-id-2\" class=\"sk-toggleable__label sk-toggleable__label-arrow\">estimator: RandomForestClassifier</label><div class=\"sk-toggleable__content\"><pre>RandomForestClassifier(max_depth=40, n_estimators=220, random_state=42)</pre></div></div></div><div class=\"sk-serial\"><div class=\"sk-item\"><div class=\"sk-estimator sk-toggleable\"><input class=\"sk-toggleable__control sk-hidden--visually\" id=\"sk-estimator-id-3\" type=\"checkbox\" ><label for=\"sk-estimator-id-3\" class=\"sk-toggleable__label sk-toggleable__label-arrow\">RandomForestClassifier</label><div class=\"sk-toggleable__content\"><pre>RandomForestClassifier(max_depth=40, n_estimators=220, random_state=42)</pre></div></div></div></div></div></div></div></div></div></div>"
      ],
      "text/plain": [
       "OneVsRestClassifier(estimator=RandomForestClassifier(max_depth=40,\n",
       "                                                     n_estimators=220,\n",
       "                                                     random_state=42))"
      ]
     },
     "execution_count": 20,
     "metadata": {},
     "output_type": "execute_result"
    }
   ],
   "source": [
    "model_multi = gs_fit.best_estimator_\n",
    "model_multi"
   ]
  },
  {
   "cell_type": "markdown",
   "id": "24f2625d",
   "metadata": {},
   "source": [
    "# Evaluate model"
   ]
  },
  {
   "cell_type": "code",
   "execution_count": 21,
   "id": "a503e9e6",
   "metadata": {},
   "outputs": [
    {
     "data": {
      "text/plain": [
       "array([[0, 0, 1],\n",
       "       [0, 1, 0],\n",
       "       [1, 0, 0],\n",
       "       ...,\n",
       "       [0, 0, 0],\n",
       "       [0, 0, 1],\n",
       "       [1, 0, 0]])"
      ]
     },
     "execution_count": 21,
     "metadata": {},
     "output_type": "execute_result"
    }
   ],
   "source": [
    "y_test_pred = model_multi.predict(test_dataset.X)\n",
    "y_test_pred"
   ]
  },
  {
   "cell_type": "code",
   "execution_count": 22,
   "id": "a59bbaf1",
   "metadata": {},
   "outputs": [],
   "source": [
    "# 将真实标签和预测标签转换为整数形式\n",
    "y_true = np.argmax(test_new_y, axis=1)\n",
    "y_pred = np.argmax(y_test_pred, axis=1)"
   ]
  },
  {
   "cell_type": "code",
   "execution_count": 23,
   "id": "f0f771f5",
   "metadata": {},
   "outputs": [],
   "source": [
    "# 将标签转换为整数形式\n",
    "label_encoder = LabelEncoder()\n",
    "y_true = label_encoder.fit_transform(y_true)\n",
    "y_pred = label_encoder.transform(y_pred)"
   ]
  },
  {
   "cell_type": "code",
   "execution_count": 24,
   "id": "c9e1a48e",
   "metadata": {},
   "outputs": [],
   "source": [
    "cm = confusion_matrix(y_true, y_pred)"
   ]
  },
  {
   "cell_type": "code",
   "execution_count": 25,
   "id": "5af920f1",
   "metadata": {},
   "outputs": [
    {
     "data": {
      "text/plain": [
       "array([[ 310,   22,   38],\n",
       "       [  58, 1131,   27],\n",
       "       [ 124,   55,  841]], dtype=int64)"
      ]
     },
     "execution_count": 25,
     "metadata": {},
     "output_type": "execute_result"
    }
   ],
   "source": [
    "cm"
   ]
  },
  {
   "cell_type": "code",
   "execution_count": 26,
   "id": "ad6b0d29",
   "metadata": {
    "scrolled": false
   },
   "outputs": [
    {
     "data": {
      "image/png": "[encoded data removed]",
      "text/plain": [
       "<Figure size 2400x1800 with 2 Axes>"
      ]
     },
     "metadata": {},
     "output_type": "display_data"
    }
   ],
   "source": [
    "class_names = label_encoder.classes_  # 类别名称\n",
    "\n",
    "# 绘制混淆矩阵图\n",
    "class_names = ['Bitter', 'Sweet', 'Tasteless']  # 类别名称\n",
    "\n",
    "# 标准化混淆矩阵\n",
    "#cm_normalized = cm.astype('float') / cm.sum(axis=1)[:, np.newaxis]\n",
    "\n",
    "# 绘制热力图\n",
    "plt.figure(figsize=(8, 6))\n",
    "sns.heatmap(cm, annot=True, fmt='d', cmap='Blues', xticklabels=class_names, yticklabels=class_names)\n",
    "plt.title('Confusion Matrix')\n",
    "plt.xlabel('Predicted Label')\n",
    "plt.ylabel('True Label')\n",
    "plt.show()"
   ]
  },
  {
   "cell_type": "code",
   "execution_count": 27,
   "id": "d4c62038",
   "metadata": {},
   "outputs": [],
   "source": [
    "test_F1 = f1_score(test_new_y, y_test_pred,average ='macro')\n",
    "test_ACC = accuracy_score(test_new_y, y_test_pred)\n",
    "test_Recall = recall_score(test_new_y,y_test_pred,average = 'macro')\n",
    "test_Precision = precision_score(test_new_y, y_test_pred,average = 'macro')"
   ]
  },
  {
   "cell_type": "code",
   "execution_count": 28,
   "id": "d6f77900",
   "metadata": {},
   "outputs": [],
   "source": [
    "rf_performance_dataset = {\n",
    "    'F1_score':[val_F1,test_F1],\n",
    "    'ACC':[val_ACC,test_ACC],\n",
    "    'Recall':[val_Recall,test_Recall],\n",
    "    'Precision':[val_Precision,test_Precision],\n",
    "}"
   ]
  },
  {
   "cell_type": "code",
   "execution_count": 29,
   "id": "f42778b6",
   "metadata": {},
   "outputs": [
    {
     "data": {
      "text/html": [
       "<div>\n",
       "<style scoped>\n",
       "    .dataframe tbody tr th:only-of-type {\n",
       "        vertical-align: middle;\n",
       "    }\n",
       "\n",
       "    .dataframe tbody tr th {\n",
       "        vertical-align: top;\n",
       "    }\n",
       "\n",
       "    .dataframe thead th {\n",
       "        text-align: right;\n",
       "    }\n",
       "</style>\n",
       "<table border=\"1\" class=\"dataframe\">\n",
       "  <thead>\n",
       "    <tr style=\"text-align: right;\">\n",
       "      <th></th>\n",
       "      <th>F1_score</th>\n",
       "      <th>ACC</th>\n",
       "      <th>Recall</th>\n",
       "      <th>Precision</th>\n",
       "    </tr>\n",
       "  </thead>\n",
       "  <tbody>\n",
       "    <tr>\n",
       "      <th>val</th>\n",
       "      <td>0.851311</td>\n",
       "      <td>0.846737</td>\n",
       "      <td>0.807590</td>\n",
       "      <td>0.903936</td>\n",
       "    </tr>\n",
       "    <tr>\n",
       "      <th>test</th>\n",
       "      <td>0.842951</td>\n",
       "      <td>0.846892</td>\n",
       "      <td>0.798383</td>\n",
       "      <td>0.897758</td>\n",
       "    </tr>\n",
       "  </tbody>\n",
       "</table>\n",
       "</div>"
      ],
      "text/plain": [
       "      F1_score       ACC    Recall  Precision\n",
       "val   0.851311  0.846737  0.807590   0.903936\n",
       "test  0.842951  0.846892  0.798383   0.897758"
      ]
     },
     "execution_count": 29,
     "metadata": {},
     "output_type": "execute_result"
    }
   ],
   "source": [
    "rf_performance = pd.DataFrame(rf_performance_dataset,index=['val','test'])\n",
    "rf_performance"
   ]
  },
  {
   "cell_type": "code",
   "execution_count": null,
   "id": "24453490",
   "metadata": {},
   "outputs": [],
   "source": []
  },
  {
   "cell_type": "code",
   "execution_count": null,
   "id": "82dd55e5",
   "metadata": {},
   "outputs": [],
   "source": []
  }
 ],
 "metadata": {
  "kernelspec": {
   "display_name": "bittersweet",
   "language": "python",
   "name": "bittersweet"
  },
  "language_info": {
   "codemirror_mode": {
    "name": "ipython",
    "version": 3
   },
   "file_extension": ".py",
   "mimetype": "text/x-python",
   "name": "python",
   "nbconvert_exporter": "python",
   "pygments_lexer": "ipython3",
   "version": "3.8.16"
  }
 },
 "nbformat": 4,
 "nbformat_minor": 5
}
